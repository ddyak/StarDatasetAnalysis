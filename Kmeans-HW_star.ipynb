{
 "cells": [
  {
   "cell_type": "code",
   "execution_count": 17,
   "metadata": {},
   "outputs": [],
   "source": [
    "import numpy as np\n",
    "import pandas as pd\n",
    "import matplotlib.pyplot as plt\n",
    "%matplotlib inline"
   ]
  },
  {
   "cell_type": "markdown",
   "metadata": {},
   "source": [
    "### Loading dataset"
   ]
  },
  {
   "cell_type": "markdown",
   "metadata": {},
   "source": [
    "## Dataset\n",
    "\n",
    "This dataset about video game sales. The dataset contains **240** objects. Each object represents a game, it's sales and ratings, which is described by **7** features."
   ]
  },
  {
   "cell_type": "markdown",
   "metadata": {},
   "source": [
    "## Features description\n",
    "\n",
    "This is a dataset consisting of several features of stars.\n",
    "\n",
    "Some of them are:\n",
    "\n",
    "- Absolute Temperature (in K)\n",
    "- Relative Luminosity (L/Lo)\n",
    "- Relative Radius (R/Ro)\n",
    "- Absolute Magnitude (Mv)\n",
    "- Star Color (white,Red,Blue,Yellow,yellow-orange etc)\n",
    "- Spectral Class (O,B,A,F,G,K,,M)\n",
    "- Star Type **(Red Dwarf, Brown Dwarf, White Dwarf, Main Sequence , SuperGiants, HyperGiants)**\n",
    "- Lo = 3.828 x 10^26 Watts (Avg Luminosity of Sun)\n",
    "- Ro = 6.9551 x 10^8 m (Avg Radius of Sun)"
   ]
  },
  {
   "cell_type": "code",
   "execution_count": 64,
   "metadata": {},
   "outputs": [
    {
     "data": {
      "text/html": [
       "<div>\n",
       "<style scoped>\n",
       "    .dataframe tbody tr th:only-of-type {\n",
       "        vertical-align: middle;\n",
       "    }\n",
       "\n",
       "    .dataframe tbody tr th {\n",
       "        vertical-align: top;\n",
       "    }\n",
       "\n",
       "    .dataframe thead th {\n",
       "        text-align: right;\n",
       "    }\n",
       "</style>\n",
       "<table border=\"1\" class=\"dataframe\">\n",
       "  <thead>\n",
       "    <tr style=\"text-align: right;\">\n",
       "      <th></th>\n",
       "      <th>Temperature (K)</th>\n",
       "      <th>Luminosity(L/Lo)</th>\n",
       "      <th>Radius(R/Ro)</th>\n",
       "      <th>Absolute magnitude(Mv)</th>\n",
       "      <th>Star type</th>\n",
       "      <th>Star color</th>\n",
       "      <th>Spectral Class</th>\n",
       "    </tr>\n",
       "  </thead>\n",
       "  <tbody>\n",
       "    <tr>\n",
       "      <th>0</th>\n",
       "      <td>3068</td>\n",
       "      <td>0.002400</td>\n",
       "      <td>0.1700</td>\n",
       "      <td>16.12</td>\n",
       "      <td>0</td>\n",
       "      <td>Red</td>\n",
       "      <td>M</td>\n",
       "    </tr>\n",
       "    <tr>\n",
       "      <th>1</th>\n",
       "      <td>3042</td>\n",
       "      <td>0.000500</td>\n",
       "      <td>0.1542</td>\n",
       "      <td>16.60</td>\n",
       "      <td>0</td>\n",
       "      <td>Red</td>\n",
       "      <td>M</td>\n",
       "    </tr>\n",
       "    <tr>\n",
       "      <th>2</th>\n",
       "      <td>2600</td>\n",
       "      <td>0.000300</td>\n",
       "      <td>0.1020</td>\n",
       "      <td>18.70</td>\n",
       "      <td>0</td>\n",
       "      <td>Red</td>\n",
       "      <td>M</td>\n",
       "    </tr>\n",
       "    <tr>\n",
       "      <th>3</th>\n",
       "      <td>2800</td>\n",
       "      <td>0.000200</td>\n",
       "      <td>0.1600</td>\n",
       "      <td>16.65</td>\n",
       "      <td>0</td>\n",
       "      <td>Red</td>\n",
       "      <td>M</td>\n",
       "    </tr>\n",
       "    <tr>\n",
       "      <th>4</th>\n",
       "      <td>1939</td>\n",
       "      <td>0.000138</td>\n",
       "      <td>0.1030</td>\n",
       "      <td>20.06</td>\n",
       "      <td>0</td>\n",
       "      <td>Red</td>\n",
       "      <td>M</td>\n",
       "    </tr>\n",
       "  </tbody>\n",
       "</table>\n",
       "</div>"
      ],
      "text/plain": [
       "   Temperature (K)  Luminosity(L/Lo)  Radius(R/Ro)  Absolute magnitude(Mv)  \\\n",
       "0             3068          0.002400        0.1700                   16.12   \n",
       "1             3042          0.000500        0.1542                   16.60   \n",
       "2             2600          0.000300        0.1020                   18.70   \n",
       "3             2800          0.000200        0.1600                   16.65   \n",
       "4             1939          0.000138        0.1030                   20.06   \n",
       "\n",
       "   Star type Star color Spectral Class  \n",
       "0          0        Red              M  \n",
       "1          0        Red              M  \n",
       "2          0        Red              M  \n",
       "3          0        Red              M  \n",
       "4          0        Red              M  "
      ]
     },
     "execution_count": 64,
     "metadata": {},
     "output_type": "execute_result"
    }
   ],
   "source": [
    "df = pd.read_csv('star_dataset.csv')\n",
    "df.head()"
   ]
  },
  {
   "cell_type": "markdown",
   "metadata": {},
   "source": [
    "Now we will get information about number of non-nulls and type of each feature"
   ]
  },
  {
   "cell_type": "code",
   "execution_count": 40,
   "metadata": {},
   "outputs": [
    {
     "name": "stdout",
     "output_type": "stream",
     "text": [
      "<class 'pandas.core.frame.DataFrame'>\n",
      "RangeIndex: 240 entries, 0 to 239\n",
      "Data columns (total 7 columns):\n",
      " #   Column              Non-Null Count  Dtype  \n",
      "---  ------              --------------  -----  \n",
      " 0   Temperature         240 non-null    int64  \n",
      " 1   Luminosity          240 non-null    float64\n",
      " 2   Radius              240 non-null    float64\n",
      " 3   Absolute_magnitude  240 non-null    float64\n",
      " 4   Star type           240 non-null    int64  \n",
      " 5   Star color          240 non-null    object \n",
      " 6   Spectral Class      240 non-null    object \n",
      "dtypes: float64(3), int64(2), object(2)\n",
      "memory usage: 13.2+ KB\n"
     ]
    }
   ],
   "source": [
    "df.info()"
   ]
  },
  {
   "cell_type": "markdown",
   "metadata": {},
   "source": [
    "There is no missings in data, so we can use all objects."
   ]
  },
  {
   "cell_type": "markdown",
   "metadata": {},
   "source": [
    "Noц we will change the names of some columns to simpler ones."
   ]
  },
  {
   "cell_type": "code",
   "execution_count": 65,
   "metadata": {},
   "outputs": [],
   "source": [
    "df.rename(columns={'Temperature (K)': 'Temperature', 'Luminosity(L/Lo)': 'Luminosity', 'Radius(R/Ro)':'Radius',\n",
    "                  'Absolute magnitude(Mv)':'Absolute magnitude'}, inplace=True)"
   ]
  },
  {
   "cell_type": "markdown",
   "metadata": {},
   "source": [
    "Now we will make dataframe X, which consists of quantitative columns"
   ]
  },
  {
   "cell_type": "code",
   "execution_count": 66,
   "metadata": {},
   "outputs": [
    {
     "data": {
      "text/html": [
       "<div>\n",
       "<style scoped>\n",
       "    .dataframe tbody tr th:only-of-type {\n",
       "        vertical-align: middle;\n",
       "    }\n",
       "\n",
       "    .dataframe tbody tr th {\n",
       "        vertical-align: top;\n",
       "    }\n",
       "\n",
       "    .dataframe thead th {\n",
       "        text-align: right;\n",
       "    }\n",
       "</style>\n",
       "<table border=\"1\" class=\"dataframe\">\n",
       "  <thead>\n",
       "    <tr style=\"text-align: right;\">\n",
       "      <th></th>\n",
       "      <th>Temperature</th>\n",
       "      <th>Luminosity</th>\n",
       "      <th>Radius</th>\n",
       "      <th>Absolute magnitude</th>\n",
       "    </tr>\n",
       "  </thead>\n",
       "  <tbody>\n",
       "    <tr>\n",
       "      <th>0</th>\n",
       "      <td>3068</td>\n",
       "      <td>0.002400</td>\n",
       "      <td>0.1700</td>\n",
       "      <td>16.12</td>\n",
       "    </tr>\n",
       "    <tr>\n",
       "      <th>1</th>\n",
       "      <td>3042</td>\n",
       "      <td>0.000500</td>\n",
       "      <td>0.1542</td>\n",
       "      <td>16.60</td>\n",
       "    </tr>\n",
       "    <tr>\n",
       "      <th>2</th>\n",
       "      <td>2600</td>\n",
       "      <td>0.000300</td>\n",
       "      <td>0.1020</td>\n",
       "      <td>18.70</td>\n",
       "    </tr>\n",
       "    <tr>\n",
       "      <th>3</th>\n",
       "      <td>2800</td>\n",
       "      <td>0.000200</td>\n",
       "      <td>0.1600</td>\n",
       "      <td>16.65</td>\n",
       "    </tr>\n",
       "    <tr>\n",
       "      <th>4</th>\n",
       "      <td>1939</td>\n",
       "      <td>0.000138</td>\n",
       "      <td>0.1030</td>\n",
       "      <td>20.06</td>\n",
       "    </tr>\n",
       "    <tr>\n",
       "      <th>...</th>\n",
       "      <td>...</td>\n",
       "      <td>...</td>\n",
       "      <td>...</td>\n",
       "      <td>...</td>\n",
       "    </tr>\n",
       "    <tr>\n",
       "      <th>235</th>\n",
       "      <td>38940</td>\n",
       "      <td>374830.000000</td>\n",
       "      <td>1356.0000</td>\n",
       "      <td>-9.93</td>\n",
       "    </tr>\n",
       "    <tr>\n",
       "      <th>236</th>\n",
       "      <td>30839</td>\n",
       "      <td>834042.000000</td>\n",
       "      <td>1194.0000</td>\n",
       "      <td>-10.63</td>\n",
       "    </tr>\n",
       "    <tr>\n",
       "      <th>237</th>\n",
       "      <td>8829</td>\n",
       "      <td>537493.000000</td>\n",
       "      <td>1423.0000</td>\n",
       "      <td>-10.73</td>\n",
       "    </tr>\n",
       "    <tr>\n",
       "      <th>238</th>\n",
       "      <td>9235</td>\n",
       "      <td>404940.000000</td>\n",
       "      <td>1112.0000</td>\n",
       "      <td>-11.23</td>\n",
       "    </tr>\n",
       "    <tr>\n",
       "      <th>239</th>\n",
       "      <td>37882</td>\n",
       "      <td>294903.000000</td>\n",
       "      <td>1783.0000</td>\n",
       "      <td>-7.80</td>\n",
       "    </tr>\n",
       "  </tbody>\n",
       "</table>\n",
       "<p>240 rows × 4 columns</p>\n",
       "</div>"
      ],
      "text/plain": [
       "     Temperature     Luminosity     Radius  Absolute magnitude\n",
       "0           3068       0.002400     0.1700               16.12\n",
       "1           3042       0.000500     0.1542               16.60\n",
       "2           2600       0.000300     0.1020               18.70\n",
       "3           2800       0.000200     0.1600               16.65\n",
       "4           1939       0.000138     0.1030               20.06\n",
       "..           ...            ...        ...                 ...\n",
       "235        38940  374830.000000  1356.0000               -9.93\n",
       "236        30839  834042.000000  1194.0000              -10.63\n",
       "237         8829  537493.000000  1423.0000              -10.73\n",
       "238         9235  404940.000000  1112.0000              -11.23\n",
       "239        37882  294903.000000  1783.0000               -7.80\n",
       "\n",
       "[240 rows x 4 columns]"
      ]
     },
     "execution_count": 66,
     "metadata": {},
     "output_type": "execute_result"
    }
   ],
   "source": [
    "quantitative_columns = ['Temperature', 'Luminosity', 'Radius', 'Absolute magnitude']\n",
    "\n",
    "X = df[quantitative_columns]\n",
    "X"
   ]
  },
  {
   "cell_type": "markdown",
   "metadata": {},
   "source": [
    "### Applying Batch K-Means "
   ]
  },
  {
   "cell_type": "markdown",
   "metadata": {},
   "source": [
    "We apply KMeans from sklearn library with specified parameters 10 times and choose best one. We choose all 4 quantitative features ('Temperature', 'Luminosity', 'Radius', 'Absolute Magnitude') because all of them represent different parameters of stars and all of them are significant for classification and clusterisation."
   ]
  },
  {
   "cell_type": "code",
   "execution_count": 67,
   "metadata": {},
   "outputs": [
    {
     "name": "stdout",
     "output_type": "stream",
     "text": [
      "Best inertia for 4-cluster clustering: 256.8953857589539\n",
      "Random state for this clustering:  9\n",
      "\n",
      "Best inertia for 7-cluster clustering: 136.50785707441952\n",
      "Random state for this clustering:  2\n",
      "\n"
     ]
    }
   ],
   "source": [
    "from sklearn.cluster import KMeans\n",
    "from sklearn.preprocessing import StandardScaler\n",
    "\n",
    "Ks = [4,7] #number of clusters\n",
    "\n",
    "X_scaled = StandardScaler().fit_transform(X) #standardizing data\n",
    "\n",
    "inertias = np.zeros((2,10)) #array, which contains inertias for each number of cluster (row)\n",
    "                            #and for each initialization of KMeans (column)\n",
    "\n",
    "best_inertias=[] #contains best_inertias for every cluster\n",
    "\n",
    "j=0 #number of row in inertias\n",
    "for k in Ks: #k is a number of clusters\n",
    "    best_inertia = 1e10 #initial inertia\n",
    "    \n",
    "    for i in range(10): \n",
    "        kmeans = KMeans(n_clusters=k, n_init = 1, max_iter = 500, init='random', \n",
    "                           tol=1e-4, algorithm='full', random_state = i).fit(X_scaled) \n",
    "                        #apply KMeans 10 times with k clusters, maximum number of iterations 500\n",
    "                        #random initial cluster centers, relative tolerance 0.0001, EM-style algorythm\n",
    "                        # and random state i\n",
    "                    \n",
    "        inertias[j,i]=kmeans.inertia_\n",
    "            \n",
    "        tmp_labels = kmeans.labels_ #cluster labels for each object\n",
    "            \n",
    "        if inertias[j,i] < best_inertia: #choose the best clustering\n",
    "            best_inertia = inertias[j,i] #save best_inertia\n",
    "            best_labels = tmp_labels #save labels for best inertia\n",
    "            best_random = i #save random_state for reproducing the results\n",
    "    df['cluster_id_' + str(k)] = best_labels #sve cluster labels in additional column\n",
    "    best_inertias = np.append(inertias, best_inertia)\n",
    "    print(\"Best inertia for \"+str(k)+\"-cluster clustering:\", best_inertia)\n",
    "    print(\"Random state for this clustering: \", best_random)\n",
    "    print()\n",
    "    j+=1"
   ]
  },
  {
   "cell_type": "code",
   "execution_count": 91,
   "metadata": {},
   "outputs": [
    {
     "name": "stdout",
     "output_type": "stream",
     "text": [
      "[[281.50641631 257.21310474 283.93293069 277.04870372 264.85695296\n",
      "  282.05251763 281.50641631 281.50641631 257.21310474 256.89538576]\n",
      " [140.63433072 147.50836015 136.50785707 137.00889523 137.00889523\n",
      "  137.00889523 198.68316395 137.06211114 192.15358365 137.00889523]]\n"
     ]
    }
   ],
   "source": [
    "print(inertias)"
   ]
  },
  {
   "cell_type": "markdown",
   "metadata": {},
   "source": [
    "### Table of inertias "
   ]
  },
  {
   "cell_type": "markdown",
   "metadata": {},
   "source": [
    "\n",
    "| Number of clusters |i=1|i=2|i=3|i=4|i=5|i=6|i=7|i=8|i=9|i=10|\n",
    "|:------------------:|:-:|:-:|:-:|:-:|:-:|:-:|:-:|:-:|:-:|:-:|\n",
    "|4                   |281.5|257.21|283.93|277.05|264.86|282.05|281.51|281.51|257.21|256.9|\n",
    "|7                   |140.63|147.51|136.51|137.01|137.01|137.01|198.68|137.06|192.15|137.01|"
   ]
  },
  {
   "cell_type": "markdown",
   "metadata": {},
   "source": [
    "Now let's save new dataset with cluster labels"
   ]
  },
  {
   "cell_type": "code",
   "execution_count": 69,
   "metadata": {},
   "outputs": [],
   "source": [
    "df.to_csv(\"Stars_with_clusters.csv\")"
   ]
  },
  {
   "cell_type": "code",
   "execution_count": 51,
   "metadata": {},
   "outputs": [],
   "source": [
    "categorical_columns = [\"Star type\", \"Star color\", \"Spectral Class\"]"
   ]
  },
  {
   "cell_type": "code",
   "execution_count": 52,
   "metadata": {},
   "outputs": [],
   "source": [
    "type_unique = df[\"Star type\"].unique()\n",
    "type_num = [len(df[df[\"Star type\"]==el]) for el in type_unique]\n",
    "\n",
    "color_unique = df[\"Star color\"].unique()\n",
    "color_num = [len(df[df[\"Star color\"]==el]) for el in color_unique]\n",
    "\n",
    "class_unique = df[\"Spectral Class\"].unique()\n",
    "class_num = [len(df[df[\"Spectral Class\"]==el]) for el in class_unique]"
   ]
  },
  {
   "cell_type": "markdown",
   "metadata": {},
   "source": [
    "# Star type"
   ]
  },
  {
   "cell_type": "markdown",
   "metadata": {},
   "source": [
    "Good"
   ]
  },
  {
   "cell_type": "code",
   "execution_count": 90,
   "metadata": {
    "scrolled": false
   },
   "outputs": [
    {
     "data": {
      "image/png": "[encoded data removed]",
      "text/plain": [
       "<Figure size 1080x504 with 1 Axes>"
      ]
     },
     "metadata": {},
     "output_type": "display_data"
    }
   ],
   "source": [
    "plt.style.use('ggplot')\n",
    "\n",
    "plt.figure(figsize=(15,7))\n",
    "type_num_for_cluster = np.array([[len(df[(df.cluster_id_4==i)&(df[\"Star type\"] == el)]) for el in type_unique]\n",
    "                                 for i in range(4)])\n",
    "\n",
    "plt.bar(type_unique, type_num_for_cluster[0], label='0', color='#73978C')\n",
    "plt.bar(type_unique, type_num_for_cluster[1], bottom=type_num_for_cluster[0], label ='1', color='#E1C0A9')\n",
    "plt.bar(type_unique, type_num_for_cluster[2], bottom=type_num_for_cluster[1]+type_num_for_cluster[0], label ='2',\n",
    "       color='#403142')\n",
    "plt.bar(type_unique, type_num_for_cluster[3],\n",
    "       bottom=type_num_for_cluster[2]+type_num_for_cluster[1]+type_num_for_cluster[0], label ='3', color='#A63340')\n",
    "plt.legend()\n",
    "plt.xticks(type_unique, ['Red Dwarf', 'Brown Dwarf', 'White Dwarf', 'Main Sequence', 'SuperGiants', 'HyperGiants'],\n",
    "           fontsize = 15, fontweight=400)\n",
    "plt.ylabel(\"Star type\")\n",
    "plt.xlabel(\"Clusters\")\n",
    "plt.title(\"Star type clusterisation\", fontsize = 20)\n",
    "plt.gca().set_ylim(-1,43)\n",
    "plt.gca().set_xlim(-1,6)\n",
    "plt.show()"
   ]
  },
  {
   "cell_type": "code",
   "execution_count": 89,
   "metadata": {},
   "outputs": [
    {
     "data": {
      "image/png": "[encoded data removed]",
      "text/plain": [
       "<Figure size 1080x504 with 1 Axes>"
      ]
     },
     "metadata": {},
     "output_type": "display_data"
    }
   ],
   "source": [
    "fig, ax = plt.subplots(figsize = (15,7))\n",
    "    \n",
    "type_num_for_cluster = np.array([[len(df[(df.cluster_id_7==i)&(df[\"Star type\"] == el)]) for el in type_unique]\n",
    "                                 for i in range(7)])\n",
    "\n",
    "ax.bar(type_unique, type_num_for_cluster[0], label='0', color='#3a6170')\n",
    "ax.bar(type_unique, type_num_for_cluster[1], bottom=type_num_for_cluster[0], label ='1', color = '#73978C')\n",
    "ax.bar(type_unique, type_num_for_cluster[2], bottom=type_num_for_cluster[1]+type_num_for_cluster[0], label ='2',\n",
    "       color='#E1C0A9')\n",
    "ax.bar(type_unique, type_num_for_cluster[3],\n",
    "       bottom=type_num_for_cluster[2]+type_num_for_cluster[1]+type_num_for_cluster[0], label ='3', color='#403142')\n",
    "ax.bar(type_unique, type_num_for_cluster[4],\n",
    "       bottom=type_num_for_cluster[3]+type_num_for_cluster[2]+type_num_for_cluster[1]+type_num_for_cluster[0],\n",
    "       label ='4', color='#A63340')\n",
    "ax.bar(type_unique, type_num_for_cluster[5],\n",
    "       bottom=type_num_for_cluster[4]+type_num_for_cluster[3]+type_num_for_cluster[2]+\n",
    "       type_num_for_cluster[1]+type_num_for_cluster[0],label ='5', color='#EAE1D0')\n",
    "ax.bar(type_unique, type_num_for_cluster[6],\n",
    "       bottom=type_num_for_cluster[5]+type_num_for_cluster[4]+type_num_for_cluster[3]+\n",
    "       type_num_for_cluster[2]+type_num_for_cluster[1]+type_num_for_cluster[0], label ='6', color ='#ebbcc0')\n",
    "plt.legend()\n",
    "plt.xticks(type_unique, ['Red Dwarf', 'Brown Dwarf', 'White Dwarf', 'Main Sequence', 'SuperGiants', 'HyperGiants'],\n",
    "           fontsize = 15, fontweight=400)\n",
    "plt.ylabel(\"Star type\")\n",
    "plt.xlabel(\"Clusters\")\n",
    "plt.title(\"Star type clusterisation\", fontsize = 20)\n",
    "plt.gca().set_ylim(-1,43)\n",
    "plt.gca().set_xlim(-1,6)\n",
    "plt.show()"
   ]
  },
  {
   "cell_type": "code",
   "execution_count": null,
   "metadata": {},
   "outputs": [],
   "source": []
  }
 ],
 "metadata": {
  "kernelspec": {
   "display_name": "Python 3",
   "language": "python",
   "name": "python3"
  },
  "language_info": {
   "codemirror_mode": {
    "name": "ipython",
    "version": 3
   },
   "file_extension": ".py",
   "mimetype": "text/x-python",
   "name": "python",
   "nbconvert_exporter": "python",
   "pygments_lexer": "ipython3",
   "version": "3.7.6"
  }
 },
 "nbformat": 4,
 "nbformat_minor": 4
}
