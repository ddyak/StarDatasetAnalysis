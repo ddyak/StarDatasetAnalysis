{
 "cells": [
  {
   "cell_type": "code",
   "execution_count": 2,
   "metadata": {},
   "outputs": [],
   "source": [
    "import numpy as np\n",
    "import pandas as pd\n",
    "import matplotlib.pyplot as plt\n",
    "%matplotlib inline"
   ]
  },
  {
   "cell_type": "markdown",
   "metadata": {},
   "source": [
    "### Loading dataset"
   ]
  },
  {
   "cell_type": "markdown",
   "metadata": {},
   "source": [
    "## Dataset\n",
    "\n",
    "This dataset about video game sales. The dataset contains **240** objects. Each object represents a game, it's sales and ratings, which is described by **7** features."
   ]
  },
  {
   "cell_type": "markdown",
   "metadata": {},
   "source": [
    "## Features description\n",
    "\n",
    "This is a dataset consisting of several features of stars.\n",
    "\n",
    "Some of them are:\n",
    "\n",
    "- Absolute Temperature (in K)\n",
    "- Relative Luminosity (L/Lo)\n",
    "- Relative Radius (R/Ro)\n",
    "- Absolute Magnitude (Mv)\n",
    "- Star Color (white,Red,Blue,Yellow,yellow-orange etc)\n",
    "- Spectral Class (O,B,A,F,G,K,,M)\n",
    "- Star Type (Red Dwarf, Brown Dwarf, White Dwarf, Main Sequence , SuperGiants, HyperGiants)\n",
    "- Lo = 3.828 x 10^26 Watts (Avg Luminosity of Sun)\n",
    "- Ro = 6.9551 x 10^8 m (Avg Radius of Sun)"
   ]
  },
  {
   "cell_type": "code",
   "execution_count": 21,
   "metadata": {},
   "outputs": [
    {
     "data": {
      "text/html": [
       "<div>\n",
       "<style scoped>\n",
       "    .dataframe tbody tr th:only-of-type {\n",
       "        vertical-align: middle;\n",
       "    }\n",
       "\n",
       "    .dataframe tbody tr th {\n",
       "        vertical-align: top;\n",
       "    }\n",
       "\n",
       "    .dataframe thead th {\n",
       "        text-align: right;\n",
       "    }\n",
       "</style>\n",
       "<table border=\"1\" class=\"dataframe\">\n",
       "  <thead>\n",
       "    <tr style=\"text-align: right;\">\n",
       "      <th></th>\n",
       "      <th>Temperature (K)</th>\n",
       "      <th>Luminosity(L/Lo)</th>\n",
       "      <th>Radius(R/Ro)</th>\n",
       "      <th>Absolute magnitude(Mv)</th>\n",
       "      <th>Star type</th>\n",
       "      <th>Star color</th>\n",
       "      <th>Spectral Class</th>\n",
       "    </tr>\n",
       "  </thead>\n",
       "  <tbody>\n",
       "    <tr>\n",
       "      <th>0</th>\n",
       "      <td>3068</td>\n",
       "      <td>0.002400</td>\n",
       "      <td>0.1700</td>\n",
       "      <td>16.12</td>\n",
       "      <td>0</td>\n",
       "      <td>Red</td>\n",
       "      <td>M</td>\n",
       "    </tr>\n",
       "    <tr>\n",
       "      <th>1</th>\n",
       "      <td>3042</td>\n",
       "      <td>0.000500</td>\n",
       "      <td>0.1542</td>\n",
       "      <td>16.60</td>\n",
       "      <td>0</td>\n",
       "      <td>Red</td>\n",
       "      <td>M</td>\n",
       "    </tr>\n",
       "    <tr>\n",
       "      <th>2</th>\n",
       "      <td>2600</td>\n",
       "      <td>0.000300</td>\n",
       "      <td>0.1020</td>\n",
       "      <td>18.70</td>\n",
       "      <td>0</td>\n",
       "      <td>Red</td>\n",
       "      <td>M</td>\n",
       "    </tr>\n",
       "    <tr>\n",
       "      <th>3</th>\n",
       "      <td>2800</td>\n",
       "      <td>0.000200</td>\n",
       "      <td>0.1600</td>\n",
       "      <td>16.65</td>\n",
       "      <td>0</td>\n",
       "      <td>Red</td>\n",
       "      <td>M</td>\n",
       "    </tr>\n",
       "    <tr>\n",
       "      <th>4</th>\n",
       "      <td>1939</td>\n",
       "      <td>0.000138</td>\n",
       "      <td>0.1030</td>\n",
       "      <td>20.06</td>\n",
       "      <td>0</td>\n",
       "      <td>Red</td>\n",
       "      <td>M</td>\n",
       "    </tr>\n",
       "  </tbody>\n",
       "</table>\n",
       "</div>"
      ],
      "text/plain": [
       "   Temperature (K)  Luminosity(L/Lo)  Radius(R/Ro)  Absolute magnitude(Mv)  \\\n",
       "0             3068          0.002400        0.1700                   16.12   \n",
       "1             3042          0.000500        0.1542                   16.60   \n",
       "2             2600          0.000300        0.1020                   18.70   \n",
       "3             2800          0.000200        0.1600                   16.65   \n",
       "4             1939          0.000138        0.1030                   20.06   \n",
       "\n",
       "   Star type Star color Spectral Class  \n",
       "0          0        Red              M  \n",
       "1          0        Red              M  \n",
       "2          0        Red              M  \n",
       "3          0        Red              M  \n",
       "4          0        Red              M  "
      ]
     },
     "execution_count": 21,
     "metadata": {},
     "output_type": "execute_result"
    }
   ],
   "source": [
    "df = pd.read_csv('star_dataset.csv')\n",
    "df.head()"
   ]
  },
  {
   "cell_type": "markdown",
   "metadata": {},
   "source": [
    "Now we will get information about number of non-nulls and type of each feature"
   ]
  },
  {
   "cell_type": "code",
   "execution_count": 22,
   "metadata": {},
   "outputs": [
    {
     "name": "stdout",
     "output_type": "stream",
     "text": [
      "<class 'pandas.core.frame.DataFrame'>\n",
      "RangeIndex: 240 entries, 0 to 239\n",
      "Data columns (total 7 columns):\n",
      " #   Column                  Non-Null Count  Dtype  \n",
      "---  ------                  --------------  -----  \n",
      " 0   Temperature (K)         240 non-null    int64  \n",
      " 1   Luminosity(L/Lo)        240 non-null    float64\n",
      " 2   Radius(R/Ro)            240 non-null    float64\n",
      " 3   Absolute magnitude(Mv)  240 non-null    float64\n",
      " 4   Star type               240 non-null    int64  \n",
      " 5   Star color              240 non-null    object \n",
      " 6   Spectral Class          240 non-null    object \n",
      "dtypes: float64(3), int64(2), object(2)\n",
      "memory usage: 13.2+ KB\n"
     ]
    }
   ],
   "source": [
    "df.info()"
   ]
  },
  {
   "cell_type": "markdown",
   "metadata": {},
   "source": [
    "There is no missings in data, so we can use all objects."
   ]
  },
  {
   "cell_type": "markdown",
   "metadata": {},
   "source": [
    "Now we will change the names of some columns to simpler ones."
   ]
  },
  {
   "cell_type": "code",
   "execution_count": 23,
   "metadata": {},
   "outputs": [],
   "source": [
    "df.rename(columns={'Temperature (K)': 'Temperature', 'Luminosity(L/Lo)': 'Luminosity', 'Radius(R/Ro)':'Radius',\n",
    "                  'Absolute magnitude(Mv)':'Absolute magnitude'}, inplace=True)"
   ]
  },
  {
   "cell_type": "markdown",
   "metadata": {},
   "source": [
    "Now we will make dataframe X, which consists of quantitative columns"
   ]
  },
  {
   "cell_type": "code",
   "execution_count": 28,
   "metadata": {},
   "outputs": [
    {
     "data": {
      "text/html": [
       "<div>\n",
       "<style scoped>\n",
       "    .dataframe tbody tr th:only-of-type {\n",
       "        vertical-align: middle;\n",
       "    }\n",
       "\n",
       "    .dataframe tbody tr th {\n",
       "        vertical-align: top;\n",
       "    }\n",
       "\n",
       "    .dataframe thead th {\n",
       "        text-align: right;\n",
       "    }\n",
       "</style>\n",
       "<table border=\"1\" class=\"dataframe\">\n",
       "  <thead>\n",
       "    <tr style=\"text-align: right;\">\n",
       "      <th></th>\n",
       "      <th>Temperature</th>\n",
       "      <th>Luminosity</th>\n",
       "      <th>Radius</th>\n",
       "      <th>Absolute magnitude</th>\n",
       "    </tr>\n",
       "  </thead>\n",
       "  <tbody>\n",
       "    <tr>\n",
       "      <th>0</th>\n",
       "      <td>3068</td>\n",
       "      <td>0.002400</td>\n",
       "      <td>0.1700</td>\n",
       "      <td>16.12</td>\n",
       "    </tr>\n",
       "    <tr>\n",
       "      <th>1</th>\n",
       "      <td>3042</td>\n",
       "      <td>0.000500</td>\n",
       "      <td>0.1542</td>\n",
       "      <td>16.60</td>\n",
       "    </tr>\n",
       "    <tr>\n",
       "      <th>2</th>\n",
       "      <td>2600</td>\n",
       "      <td>0.000300</td>\n",
       "      <td>0.1020</td>\n",
       "      <td>18.70</td>\n",
       "    </tr>\n",
       "    <tr>\n",
       "      <th>3</th>\n",
       "      <td>2800</td>\n",
       "      <td>0.000200</td>\n",
       "      <td>0.1600</td>\n",
       "      <td>16.65</td>\n",
       "    </tr>\n",
       "    <tr>\n",
       "      <th>4</th>\n",
       "      <td>1939</td>\n",
       "      <td>0.000138</td>\n",
       "      <td>0.1030</td>\n",
       "      <td>20.06</td>\n",
       "    </tr>\n",
       "    <tr>\n",
       "      <th>...</th>\n",
       "      <td>...</td>\n",
       "      <td>...</td>\n",
       "      <td>...</td>\n",
       "      <td>...</td>\n",
       "    </tr>\n",
       "    <tr>\n",
       "      <th>235</th>\n",
       "      <td>38940</td>\n",
       "      <td>374830.000000</td>\n",
       "      <td>1356.0000</td>\n",
       "      <td>-9.93</td>\n",
       "    </tr>\n",
       "    <tr>\n",
       "      <th>236</th>\n",
       "      <td>30839</td>\n",
       "      <td>834042.000000</td>\n",
       "      <td>1194.0000</td>\n",
       "      <td>-10.63</td>\n",
       "    </tr>\n",
       "    <tr>\n",
       "      <th>237</th>\n",
       "      <td>8829</td>\n",
       "      <td>537493.000000</td>\n",
       "      <td>1423.0000</td>\n",
       "      <td>-10.73</td>\n",
       "    </tr>\n",
       "    <tr>\n",
       "      <th>238</th>\n",
       "      <td>9235</td>\n",
       "      <td>404940.000000</td>\n",
       "      <td>1112.0000</td>\n",
       "      <td>-11.23</td>\n",
       "    </tr>\n",
       "    <tr>\n",
       "      <th>239</th>\n",
       "      <td>37882</td>\n",
       "      <td>294903.000000</td>\n",
       "      <td>1783.0000</td>\n",
       "      <td>-7.80</td>\n",
       "    </tr>\n",
       "  </tbody>\n",
       "</table>\n",
       "<p>240 rows × 4 columns</p>\n",
       "</div>"
      ],
      "text/plain": [
       "     Temperature     Luminosity     Radius  Absolute magnitude\n",
       "0           3068       0.002400     0.1700               16.12\n",
       "1           3042       0.000500     0.1542               16.60\n",
       "2           2600       0.000300     0.1020               18.70\n",
       "3           2800       0.000200     0.1600               16.65\n",
       "4           1939       0.000138     0.1030               20.06\n",
       "..           ...            ...        ...                 ...\n",
       "235        38940  374830.000000  1356.0000               -9.93\n",
       "236        30839  834042.000000  1194.0000              -10.63\n",
       "237         8829  537493.000000  1423.0000              -10.73\n",
       "238         9235  404940.000000  1112.0000              -11.23\n",
       "239        37882  294903.000000  1783.0000               -7.80\n",
       "\n",
       "[240 rows x 4 columns]"
      ]
     },
     "execution_count": 28,
     "metadata": {},
     "output_type": "execute_result"
    }
   ],
   "source": [
    "quantitative_columns = ['Temperature', 'Luminosity', 'Radius', 'Absolute magnitude']\n",
    "\n",
    "X = df[quantitative_columns]\n",
    "X"
   ]
  },
  {
   "cell_type": "markdown",
   "metadata": {},
   "source": [
    "### Applying K-Means "
   ]
  },
  {
   "cell_type": "markdown",
   "metadata": {},
   "source": [
    "We apply KMeans from sklearn library with specified parameters 10 times and choose best one. We choose all 4 quantitative features ('Temperature', 'Luminosity', 'Radius', 'Absolute Magnitude') because all of them represent different parameters of stars and all of them are significant for classification and clusterisation."
   ]
  },
  {
   "cell_type": "code",
   "execution_count": 12,
   "metadata": {},
   "outputs": [
    {
     "name": "stdout",
     "output_type": "stream",
     "text": [
      "Best inertia for 4-cluster clustering: 256.8953857589539\n",
      "Random state for this clustering:  9\n",
      "\n",
      "Best inertia for 7-cluster clustering: 136.50785707441952\n",
      "Random state for this clustering:  2\n",
      "\n"
     ]
    }
   ],
   "source": [
    "from sklearn.cluster import KMeans\n",
    "from sklearn.preprocessing import StandardScaler\n",
    "\n",
    "Ks = [4,7] #number of clusters\n",
    "\n",
    "X_scaled = StandardScaler().fit_transform(X) #standardizing data\n",
    "\n",
    "inertias = np.zeros((2,10)) #array, which contains inertias for each number of cluster (row)\n",
    "                            #and for each initialization of KMeans (column)\n",
    "\n",
    "best_inertias=[] #contains best_inertias for every cluster\n",
    "\n",
    "j=0 #number of row in inertias\n",
    "for k in Ks: #k is a number of clusters\n",
    "    best_inertia = 1e10 #initial inertia\n",
    "    \n",
    "    for i in range(10): \n",
    "        kmeans = KMeans(n_clusters=k, n_init = 1, max_iter = 500, init='random', \n",
    "                           tol=1e-4, algorithm='full', random_state = i).fit(X_scaled) \n",
    "                        #apply KMeans 10 times with k clusters, maximum number of iterations 500\n",
    "                        #random initial cluster centers, relative tolerance 0.0001, EM-style algorythm\n",
    "                        # and random state i\n",
    "                    \n",
    "        inertias[j,i]=kmeans.inertia_\n",
    "            \n",
    "        tmp_labels = kmeans.labels_ #cluster labels for each object\n",
    "            \n",
    "        if inertias[j,i] < best_inertia: #choose the best clustering\n",
    "            best_inertia = inertias[j,i] #save best_inertia\n",
    "            best_labels = tmp_labels #save labels for best inertia\n",
    "            best_random = i #save random_state for reproducing the results\n",
    "    df['cluster_id_' + str(k)] = best_labels #sve cluster labels in additional column\n",
    "    best_inertias = np.append(inertias, best_inertia)\n",
    "    print(\"Best inertia for \"+str(k)+\"-cluster clustering:\", best_inertia)\n",
    "    print(\"Random state for this clustering: \", best_random)\n",
    "    print()\n",
    "    j+=1"
   ]
  },
  {
   "cell_type": "code",
   "execution_count": 13,
   "metadata": {},
   "outputs": [
    {
     "name": "stdout",
     "output_type": "stream",
     "text": [
      "[[281.50641631 257.21310474 283.93293069 277.04870372 264.85695296\n",
      "  282.05251763 281.50641631 281.50641631 257.21310474 256.89538576]\n",
      " [140.63433072 147.50836015 136.50785707 137.00889523 137.00889523\n",
      "  137.00889523 198.68316395 137.06211114 192.15358365 137.00889523]]\n"
     ]
    }
   ],
   "source": [
    "print(inertias)"
   ]
  },
  {
   "cell_type": "markdown",
   "metadata": {},
   "source": [
    "### Table of inertias "
   ]
  },
  {
   "cell_type": "markdown",
   "metadata": {},
   "source": [
    "\n",
    "| Number of clusters |i=0|i=1|i=2|i=3|i=4|i=5|i=6|i=7|i=8|i=9|\n",
    "|:------------------:|:-:|:-:|:-:|:-:|:-:|:-:|:-:|:-:|:-:|:-:|\n",
    "|4                   |281.5|257.21|283.93|277.05|264.86|282.05|281.51|281.51|257.21|256.9|\n",
    "|7                   |140.63|147.51|136.51|137.01|137.01|137.01|198.68|137.06|192.15|137.01|"
   ]
  },
  {
   "cell_type": "markdown",
   "metadata": {},
   "source": [
    "With random state 9 we have best inertia for 4 clusters.\n",
    "With random state 2 we have best inertia for 7 clusters."
   ]
  },
  {
   "cell_type": "markdown",
   "metadata": {},
   "source": [
    "Now let's save new dataset with cluster labels"
   ]
  },
  {
   "cell_type": "code",
   "execution_count": 69,
   "metadata": {},
   "outputs": [],
   "source": [
    "df.to_csv(\"Stars_with_clusters.csv\")"
   ]
  },
  {
   "cell_type": "code",
   "execution_count": 7,
   "metadata": {},
   "outputs": [],
   "source": [
    "categorical_columns = [\"Star type\", \"Star color\", \"Spectral Class\"]"
   ]
  },
  {
   "cell_type": "code",
   "execution_count": 9,
   "metadata": {},
   "outputs": [],
   "source": [
    "type_unique = df[\"Star type\"].unique() #get unique values of star types\n",
    "type_num = [len(df[df[\"Star type\"]==el]) for el in type_unique] #number of elements for every type"
   ]
  },
  {
   "cell_type": "markdown",
   "metadata": {},
   "source": [
    "# Star type"
   ]
  },
  {
   "cell_type": "markdown",
   "metadata": {},
   "source": [
    "Lets have a look on distribution of star types in clusters. We will use bar plot which will show what part of each type of stars is in certain cluster"
   ]
  },
  {
   "cell_type": "code",
   "execution_count": 16,
   "metadata": {
    "scrolled": false
   },
   "outputs": [
    {
     "data": {
      "image/png": "[encoded data removed]",
      "text/plain": [
       "<Figure size 1080x504 with 1 Axes>"
      ]
     },
     "metadata": {},
     "output_type": "display_data"
    }
   ],
   "source": [
    "plt.style.use('ggplot') #define the style of plotting\n",
    "\n",
    "plt.figure(figsize=(15,7))\n",
    "type_num_for_cluster = np.array([[len(df[(df.cluster_id_4==i)&(df[\"Star type\"] == el)]) for el in type_unique]\n",
    "                                 for i in range(4)]) #counting how many objects in each type belong to each cluster\n",
    "\n",
    "# plotting bar graph with defined label and color\n",
    "plt.bar(type_unique, type_num_for_cluster[0], label='0', color='#73978C')\n",
    "plt.bar(type_unique, type_num_for_cluster[1], bottom=type_num_for_cluster[0], label ='1', color='#E1C0A9')\n",
    "plt.bar(type_unique, type_num_for_cluster[2], bottom=type_num_for_cluster[1]+type_num_for_cluster[0], label ='2',\n",
    "       color='#403142')\n",
    "plt.bar(type_unique, type_num_for_cluster[3],\n",
    "       bottom=type_num_for_cluster[2]+type_num_for_cluster[1]+type_num_for_cluster[0], label ='3', color='#A63340')\n",
    "\n",
    "plt.legend() #define the legend\n",
    "plt.xticks(type_unique, ['Red Dwarf', 'Brown Dwarf', 'White Dwarf', 'Main Sequence', 'SuperGiants', 'HyperGiants'],\n",
    "           fontsize = 15, fontweight=400) #define the names of ticks (names of bars)\n",
    "\n",
    "#define labels of axes\n",
    "plt.ylabel(\"Star type\")\n",
    "plt.xlabel(\"Clusters\")\n",
    "\n",
    "plt.title(\"Star type clustering\", fontsize = 20) #define title of the graph\n",
    "\n",
    "#set limits of axes display\n",
    "plt.gca().set_ylim(-1,43)\n",
    "plt.gca().set_xlim(-1,6)\n",
    "\n",
    "#show the graph\n",
    "plt.show()"
   ]
  },
  {
   "cell_type": "markdown",
   "metadata": {},
   "source": [
    "Now we will make the same graph for 7 cluster separation"
   ]
  },
  {
   "cell_type": "code",
   "execution_count": 17,
   "metadata": {},
   "outputs": [
    {
     "data": {
      "image/png": "[encoded data removed]",
      "text/plain": [
       "<Figure size 1080x504 with 1 Axes>"
      ]
     },
     "metadata": {},
     "output_type": "display_data"
    }
   ],
   "source": [
    "fig, ax = plt.subplots(figsize = (15,7)) #define the style of plotting\n",
    "    \n",
    "type_num_for_cluster = np.array([[len(df[(df.cluster_id_7==i)&(df[\"Star type\"] == el)]) for el in type_unique]\n",
    "                                 for i in range(7)]) #counting how many objects in each type belong to each cluster\n",
    "\n",
    "# plotting bar graph with defined label and color\n",
    "ax.bar(type_unique, type_num_for_cluster[0], label='0', color='#3a6170')\n",
    "ax.bar(type_unique, type_num_for_cluster[1], bottom=type_num_for_cluster[0], label ='1', color = '#73978C')\n",
    "ax.bar(type_unique, type_num_for_cluster[2], bottom=type_num_for_cluster[1]+type_num_for_cluster[0], label ='2',\n",
    "       color='#E1C0A9')\n",
    "ax.bar(type_unique, type_num_for_cluster[3],\n",
    "       bottom=type_num_for_cluster[2]+type_num_for_cluster[1]+type_num_for_cluster[0], label ='3', color='#403142')\n",
    "ax.bar(type_unique, type_num_for_cluster[4],\n",
    "       bottom=type_num_for_cluster[3]+type_num_for_cluster[2]+type_num_for_cluster[1]+type_num_for_cluster[0],\n",
    "       label ='4', color='#A63340')\n",
    "ax.bar(type_unique, type_num_for_cluster[5],\n",
    "       bottom=type_num_for_cluster[4]+type_num_for_cluster[3]+type_num_for_cluster[2]+\n",
    "       type_num_for_cluster[1]+type_num_for_cluster[0],label ='5', color='#EAE1D0')\n",
    "ax.bar(type_unique, type_num_for_cluster[6],\n",
    "       bottom=type_num_for_cluster[5]+type_num_for_cluster[4]+type_num_for_cluster[3]+\n",
    "       type_num_for_cluster[2]+type_num_for_cluster[1]+type_num_for_cluster[0], label ='6', color ='#ebbcc0')\n",
    "\n",
    "plt.legend() #define the legend\n",
    "\n",
    "plt.xticks(type_unique, ['Red Dwarf', 'Brown Dwarf', 'White Dwarf', 'Main Sequence', 'SuperGiants', 'HyperGiants'],\n",
    "           fontsize = 15, fontweight=400) #define the names of ticks (names of bars)\n",
    "\n",
    "#define labels of axes\n",
    "plt.ylabel(\"Star type\")\n",
    "plt.xlabel(\"Clusters\")\n",
    "\n",
    "plt.title(\"Star type clustering\", fontsize = 20) #define title of the graph\n",
    "\n",
    "#set limits of axes display\n",
    "plt.gca().set_ylim(-1,43)\n",
    "plt.gca().set_xlim(-1,6)\n",
    "\n",
    "#show the graph\n",
    "plt.show()"
   ]
  },
  {
   "cell_type": "markdown",
   "metadata": {},
   "source": [
    "## Relative difference"
   ]
  },
  {
   "cell_type": "markdown",
   "metadata": {},
   "source": [
    "#### 4 clusters"
   ]
  },
  {
   "cell_type": "code",
   "execution_count": 3,
   "metadata": {},
   "outputs": [],
   "source": [
    "df_cluster = pd.read_csv(\"Stars_with_clusters.csv\")"
   ]
  },
  {
   "cell_type": "markdown",
   "metadata": {},
   "source": [
    "Mean"
   ]
  },
  {
   "cell_type": "code",
   "execution_count": 82,
   "metadata": {},
   "outputs": [],
   "source": [
    "relative_difference_4 = np.zeros((4,4))\n",
    "for j, feature in enumerate(quantitative_columns):\n",
    "    grand_mean = np.mean(df_cluster[feature])\n",
    "    for i in range(4):\n",
    "        relative_difference_4[i,j] = round(100*(np.mean(df_cluster[df_cluster[\"cluster_id_4\"]==i][feature])/grand_mean-1),2)"
   ]
  },
  {
   "cell_type": "code",
   "execution_count": 83,
   "metadata": {},
   "outputs": [
    {
     "data": {
      "text/plain": [
       "array([[ -53.53,  134.18,  476.37, -326.93],\n",
       "       [ 171.34,  423.36,  337.89, -288.59],\n",
       "       [ -39.18,  -99.99,  -99.85,  192.51],\n",
       "       [  71.66,   59.37,  -81.71, -201.09]])"
      ]
     },
     "execution_count": 83,
     "metadata": {},
     "output_type": "execute_result"
    }
   ],
   "source": [
    "relative_difference_4"
   ]
  },
  {
   "cell_type": "markdown",
   "metadata": {},
   "source": [
    "\n",
    "| |Temperature|Luminosity|Radius|Absolute magnitude|\n",
    "|:------------------:|:-:|:-:|:-:|:-:|\n",
    "|Relative difference for cluster \"0\"|-53.53|134.18|476.36|-327.05|\n",
    "|Relative difference for cluster \"1\"|171.34|423.36|337.89|-288.69|\n",
    "|Relative difference for cluster \"2\"|-39.18|-99.99|-99.85|192.67|\n",
    "|Relative difference for cluster \"3\"|71.66|59.37|-81.71|-201.15|"
   ]
  },
  {
   "cell_type": "markdown",
   "metadata": {},
   "source": [
    "#### 7 clusters"
   ]
  },
  {
   "cell_type": "code",
   "execution_count": 84,
   "metadata": {},
   "outputs": [],
   "source": [
    "relative_difference_7 = np.zeros((7,4))\n",
    "for j, feature in enumerate(quantitative_columns):\n",
    "    grand_mean = np.mean(df_cluster[feature])\n",
    "    for i in range(7):\n",
    "        relative_difference_7[i,j] = round(100*(np.mean(df_cluster[df_cluster[\"cluster_id_7\"]==i][feature])/grand_mean-1),2)"
   ]
  },
  {
   "cell_type": "code",
   "execution_count": 85,
   "metadata": {},
   "outputs": [
    {
     "data": {
      "text/plain": [
       "array([[ -64.35, -100.  ,  -99.91,  241.32],\n",
       "       [  -9.93,  -84.26,  -96.54,  -94.11],\n",
       "       [ -51.24,  130.11,  467.12, -325.33],\n",
       "       [ 171.  ,   56.89,  -88.37, -213.82],\n",
       "       [   2.32,  216.21,  -76.95, -249.08],\n",
       "       [ 196.75,  390.51,  449.73, -299.48],\n",
       "       [  53.71, -100.  , -100.  ,  172.46]])"
      ]
     },
     "execution_count": 85,
     "metadata": {},
     "output_type": "execute_result"
    }
   ],
   "source": [
    "relative_difference_7"
   ]
  },
  {
   "cell_type": "markdown",
   "metadata": {},
   "source": [
    "\n",
    "| |Temperature|Luminosity|Radius|Absolute magnitude|\n",
    "|:------------------:|:-:|:-:|:-:|:-:|\n",
    "|Relative difference for cluster \"0\"|-64.35|-100|-99.91|241.32|\n",
    "|Relative difference for cluster \"1\"|-9.93|-84.26|-96.54|-94.11|\n",
    "|Relative difference for cluster \"2\"|-51.24|130.11|467.12|-325.33|\n",
    "|Relative difference for cluster \"3\"|171|56.89|-88.37|-213.82|\n",
    "|Relative difference for cluster \"4\"|2.32|216.21|-76.95|-249.08|\n",
    "|Relative difference for cluster \"5\"|196.75|390.51|449.73|-299.48|\n",
    "|Relative difference for cluster \"6\"|53.71|-100|-100|172.46|"
   ]
  },
  {
   "cell_type": "markdown",
   "metadata": {},
   "source": [
    "## Quetelet indeces"
   ]
  },
  {
   "cell_type": "code",
   "execution_count": 8,
   "metadata": {},
   "outputs": [
    {
     "name": "stdout",
     "output_type": "stream",
     "text": [
      "['Star type', 'Star color', 'Spectral Class']\n"
     ]
    }
   ],
   "source": [
    "print(categorical_columns)"
   ]
  },
  {
   "cell_type": "code",
   "execution_count": 9,
   "metadata": {},
   "outputs": [
    {
     "name": "stdout",
     "output_type": "stream",
     "text": [
      "[0 1 2 3 4 5]\n",
      "6\n"
     ]
    }
   ],
   "source": [
    "types = df_cluster[\"Star type\"].unique()\n",
    "print(types)\n",
    "print(len(types))"
   ]
  },
  {
   "cell_type": "code",
   "execution_count": 10,
   "metadata": {},
   "outputs": [
    {
     "name": "stdout",
     "output_type": "stream",
     "text": [
      "['Red' 'Blue White' 'White' 'Yellowish White' 'Blue white'\n",
      " 'Pale yellow orange' 'Blue' 'Blue-white' 'Whitish' 'yellow-white'\n",
      " 'Orange' 'White-Yellow' 'white' 'Blue ' 'yellowish' 'Yellowish'\n",
      " 'Orange-Red' 'Blue white ' 'Blue-White']\n",
      "19\n"
     ]
    }
   ],
   "source": [
    "colors = df_cluster[\"Star color\"].unique()\n",
    "print(colors)\n",
    "print(len(colors))"
   ]
  },
  {
   "cell_type": "code",
   "execution_count": 11,
   "metadata": {},
   "outputs": [
    {
     "name": "stdout",
     "output_type": "stream",
     "text": [
      "['M' 'B' 'A' 'F' 'O' 'K' 'G']\n",
      "7\n"
     ]
    }
   ],
   "source": [
    "classes = df_cluster[\"Spectral Class\"].unique()\n",
    "print(classes)\n",
    "print(len(classes))"
   ]
  },
  {
   "cell_type": "markdown",
   "metadata": {},
   "source": [
    "### 4 clusters"
   ]
  },
  {
   "cell_type": "markdown",
   "metadata": {},
   "source": [
    "#### types"
   ]
  },
  {
   "cell_type": "code",
   "execution_count": 125,
   "metadata": {},
   "outputs": [],
   "source": [
    "quetelet_indeces_types_4 = np.zeros((4,6))\n",
    "for j, cat in enumerate(types):\n",
    "    for i in range(4):\n",
    "        p_kv = len(df_cluster[(df_cluster[\"cluster_id_4\"]==i)&(df_cluster[\"Star type\"]==cat)])/240.\n",
    "        p_k = len(df_cluster[df_cluster[\"cluster_id_4\"]==i])/240.\n",
    "        p_v = len(df_cluster[df_cluster[\"Star type\"]==cat])/240.\n",
    "        quetelet_indeces_types_4[i,j] = round(100*(p_kv/(p_k*p_v)-1),2)"
   ]
  },
  {
   "cell_type": "code",
   "execution_count": 126,
   "metadata": {
    "scrolled": true
   },
   "outputs": [
    {
     "data": {
      "text/plain": [
       "array([[-100.  , -100.  , -100.  , -100.  , -100.  ,  500.  ],\n",
       "       [-100.  , -100.  , -100.  , -100.  ,   71.43,  328.57],\n",
       "       [  77.78,   77.78,   64.44,  -20.  , -100.  , -100.  ],\n",
       "       [-100.  , -100.  ,  -70.97,  112.9 ,  248.39,  -90.32]])"
      ]
     },
     "execution_count": 126,
     "metadata": {},
     "output_type": "execute_result"
    }
   ],
   "source": [
    "quetelet_indeces_types_4"
   ]
  },
  {
   "cell_type": "markdown",
   "metadata": {},
   "source": [
    "                                                   Quelet indeces for star type\n",
    "| |0 - Red Dwarf|1 - Brown Dwarf|2 - White Dwarf|3 - Main Sequence|4 - SuperGiants|5 - HyperGiants|\n",
    "|:-:|:-:|:-:|:-:|:-:|:-:|:-:|\n",
    "|Quetelet index for cluster \"0\"|-100|-100|-100|-100|-100|500|\n",
    "|Quetelet index for cluster \"1\"|-100|-100|-100|-100|71.43|328.57|\n",
    "|Quetelet index for cluster \"2\"|77.78|77.78|64.44|-20|-100|-100|\n",
    "|Quetelet index for cluster \"3\"|-100|-100|-70.97|112.9|248.39|-90.32|\n"
   ]
  },
  {
   "cell_type": "markdown",
   "metadata": {},
   "source": [
    "#### colors"
   ]
  },
  {
   "cell_type": "code",
   "execution_count": 127,
   "metadata": {},
   "outputs": [],
   "source": [
    "quetelet_indeces_colors_4 = np.zeros((4,19))\n",
    "for j, cat in enumerate(colors):\n",
    "    for i in range(4):\n",
    "        p_kv = len(df_cluster[(df_cluster[\"cluster_id_4\"]==i)&(df_cluster[\"Star color\"]==cat)])/240\n",
    "        p_k = len(df_cluster[df_cluster[\"cluster_id_4\"]==i])/240.\n",
    "        p_v = len(df_cluster[df_cluster[\"Star color\"]==cat])/240.\n",
    "        quetelet_indeces_colors_4[i,j] = round(100*(p_kv/(p_k*p_v)-1),2)"
   ]
  },
  {
   "cell_type": "code",
   "execution_count": 128,
   "metadata": {
    "scrolled": true
   },
   "outputs": [
    {
     "data": {
      "text/plain": [
       "array([[  69.95, -100.  ,  136.45, -100.  , -100.  , -100.  ,  -84.95,\n",
       "         -68.17, -100.  , -100.  ,  727.59, -100.  , -100.  , -100.  ,\n",
       "        -100.  , -100.  , -100.  , -100.  , -100.  ],\n",
       "       [-100.  , -100.  , -100.  , -100.  , -100.  , -100.  ,  211.69,\n",
       "         163.74, -100.  , -100.  , -100.  , -100.  , -100.  , -100.  ,\n",
       "        -100.  , -100.  , -100.  , -100.  , -100.  ],\n",
       "       [  26.98,   60.  ,   26.98,   77.78,   77.78,   77.78,  -67.68,\n",
       "         -79.49,   77.78,   77.78, -100.  ,   77.78,   77.78,   77.78,\n",
       "          77.78,   77.78,   77.78,   77.78,   77.78],\n",
       "       [ -68.89,  -61.29, -100.  , -100.  , -100.  , -100.  ,  139.3 ,\n",
       "         167.99, -100.  , -100.  , -100.  , -100.  , -100.  , -100.  ,\n",
       "        -100.  , -100.  , -100.  , -100.  , -100.  ]])"
      ]
     },
     "execution_count": 128,
     "metadata": {},
     "output_type": "execute_result"
    }
   ],
   "source": [
    "quetelet_indeces_colors_4"
   ]
  },
  {
   "cell_type": "markdown",
   "metadata": {},
   "source": [
    "                                                   Quelet indeces for star color\n",
    "||Red|Blue White|White|Yellowish White|Blue white|Pale yellow orange|Blue|\n",
    "|:-:|:-:|:-:|:-:|:-:|:-:|:-:|:-:|\n",
    "|Quetelet index for cluster \"0\"|69.955|-100|136.45|-100|-100|-100|-84.95|\n",
    "|Quetelet index for cluster \"1\"|-100|-100|-100|-100|-100|-100|211.69|\n",
    "|Quetelet index for cluster \"2\"|26.98|60|26.98|77.78|77.78|77.78|-67.68|\n",
    "|Quetelet index for cluster \"3\"|-68.89|-61.29|-100|-100|-100|-100|139.3|\n",
    "\n",
    "||Blue-white|Whitish|yellow-white|Orange|White-Yellow|white|\n",
    "|:-:|:-:|:-:|:-:|:-:|:-:|:-:|\n",
    "|Quetelet index for cluster \"0\"|-68.17|-100|-100|727.59|-100|-100|\n",
    "|Quetelet index for cluster \"1\"|163.74|-100|-100|-100|-100|-100|\n",
    "|Quetelet index for cluster \"2\"|-79.49|77.78|77.78|-100|77.78|77.78|\n",
    "|Quetelet index for cluster \"3\"|167.99|-100|-100|-100|-100|-100|\n",
    "\n",
    "||Blue|yellowish|Yellowish|Orange-Red|Blue white|Blue-White|\n",
    "|:-:|:-:|:-:|:-:|:-:|:-:|:-:|\n",
    "|Quetelet index for cluster \"0\"|-100|-100|-100|-100|-100|-100|\n",
    "|Quetelet index for cluster \"1\"|-100|-100|-100|-100|-100|-100|\n",
    "|Quetelet index for cluster \"2\"|77.78|77.78|77.78|77.78|77.78|77.78|\n",
    "|Quetelet index for cluster \"3\"|-100|-100|-100|-100|-100|-100|"
   ]
  },
  {
   "cell_type": "markdown",
   "metadata": {},
   "source": [
    "#### classes"
   ]
  },
  {
   "cell_type": "code",
   "execution_count": 123,
   "metadata": {},
   "outputs": [],
   "source": [
    "quetelet_indeces_classes_4 = np.zeros((4,7))\n",
    "for j, cat in enumerate(classes):\n",
    "    for i in range(4):\n",
    "        p_kv = len(df_cluster[(df_cluster[\"cluster_id_4\"]==i)&(df_cluster[\"Spectral Class\"]==cat)])/240.\n",
    "        p_k = len(df_cluster[df_cluster[\"cluster_id_4\"]==i])/240.\n",
    "        p_v = len(df_cluster[df_cluster[\"Spectral Class\"]==cat])/240.\n",
    "        quetelet_indeces_classes_4[i,j] = round(100*(p_kv/(p_k*p_v)-1),2)"
   ]
  },
  {
   "cell_type": "code",
   "execution_count": 124,
   "metadata": {
    "scrolled": true
   },
   "outputs": [
    {
     "data": {
      "text/plain": [
       "array([[  64.03,  -82.01,  -12.89, -100.  ,  -79.31,  175.86,  727.59],\n",
       "       [-100.  ,   86.34, -100.  , -100.  ,  285.71, -100.  , -100.  ],\n",
       "       [  28.13,  -14.98,   12.28,   77.78, -100.  ,   18.52, -100.  ],\n",
       "       [ -68.61,   51.47,    1.87, -100.  ,  190.32, -100.  , -100.  ]])"
      ]
     },
     "execution_count": 124,
     "metadata": {},
     "output_type": "execute_result"
    }
   ],
   "source": [
    "quetelet_indeces_classes_4"
   ]
  },
  {
   "cell_type": "markdown",
   "metadata": {},
   "source": [
    "                                                   Quelet indeces for spectral classes\n",
    "| |M|B|A|F|O|K|G|\n",
    "|:-:|:-:|:-:|:-:|:-:|:-:|:-:|:-:|\n",
    "|Quetelet index for cluster \"0\"|64.03|-82.01|-12.89|-100|-79.31|175.86|727.59|\n",
    "|Quetelet index for cluster \"1\"|-100|86.34|-100|-100|285.71|-100|-100|\n",
    "|Quetelet index for cluster \"2\"|28.13|-14.98|12.28|77.78|-100|18.52|-100|\n",
    "|Quetelet index for cluster \"3\"|-68.61|51.47|1.87|-100|190.32|-100|-100|\n"
   ]
  },
  {
   "cell_type": "markdown",
   "metadata": {},
   "source": [
    "### 7 clusters"
   ]
  },
  {
   "cell_type": "markdown",
   "metadata": {},
   "source": [
    "#### types"
   ]
  },
  {
   "cell_type": "code",
   "execution_count": 12,
   "metadata": {},
   "outputs": [],
   "source": [
    "quetelet_indeces_types_7 = np.zeros((7,6))\n",
    "for j, cat in enumerate(types):\n",
    "    for i in range(7):\n",
    "        p_kv = len(df_cluster[(df_cluster[\"cluster_id_7\"]==i)&(df_cluster[\"Star type\"]==cat)])/240.\n",
    "        p_k = len(df_cluster[df_cluster[\"cluster_id_7\"]==i])/240.\n",
    "        p_v = len(df_cluster[df_cluster[\"Star type\"]==cat])/240.\n",
    "        quetelet_indeces_types_7[i,j] = round(100*(p_kv/(p_k*p_v)-1),2)"
   ]
  },
  {
   "cell_type": "code",
   "execution_count": 13,
   "metadata": {
    "scrolled": true
   },
   "outputs": [
    {
     "data": {
      "text/plain": [
       "array([[ 163.74,  163.74,  -27.47, -100.  , -100.  , -100.  ],\n",
       "       [-100.  , -100.  , -100.  ,  425.  ,  -25.  , -100.  ],\n",
       "       [-100.  , -100.  , -100.  , -100.  , -100.  ,  500.  ],\n",
       "       [-100.  , -100.  , -100.  ,  213.04,  186.96, -100.  ],\n",
       "       [-100.  , -100.  , -100.  , -100.  ,  500.  , -100.  ],\n",
       "       [-100.  , -100.  , -100.  , -100.  ,  -45.45,  445.45],\n",
       "       [-100.  , -100.  ,  500.  , -100.  , -100.  , -100.  ]])"
      ]
     },
     "execution_count": 13,
     "metadata": {},
     "output_type": "execute_result"
    }
   ],
   "source": [
    "quetelet_indeces_types_7"
   ]
  },
  {
   "cell_type": "markdown",
   "metadata": {},
   "source": [
    "\n",
    "| |Temperature|Luminosity|Radius|Absolute magnitude|\n",
    "|:------------------:|:-:|:-:|:-:|:-:|\n",
    "|Relative difference for cluster \"0\"|-64.35|-100|-99.91|241.32|\n",
    "|Relative difference for cluster \"1\"|-9.93|-84.26|-96.54|-94.11|\n",
    "|Relative difference for cluster \"2\"|-51.24|130.11|467.12|-325.33|\n",
    "|Relative difference for cluster \"3\"|171|56.89|-88.37|-213.82|\n",
    "|Relative difference for cluster \"4\"|2.32|216.21|-76.95|-249.08|\n",
    "|Relative difference for cluster \"5\"|196.75|390.51|449.73|-299.48|\n",
    "|Relative difference for cluster \"6\"|53.71|-100|-100|172.46|"
   ]
  },
  {
   "cell_type": "markdown",
   "metadata": {},
   "source": [
    "                                                   Quelet indeces for star type\n",
    "| |0 - Red Dwarf|1 - Brown Dwarf|2 - White Dwarf|3 - Main Sequence|4 - SuperGiants|5 - HyperGiants|\n",
    "|:-:|:-:|:-:|:-:|:-:|:-:|:-:|\n",
    "|Quetelet index for cluster \"0\"|163.74|163.74|-27.47|-100|-100|-100|\n",
    "|Quetelet index for cluster \"1\"|-100|-100|-100|425|-25|-100|\n",
    "|Quetelet index for cluster \"2\"|-100|-100|-100|-100|-100|500|\n",
    "|Quetelet index for cluster \"3\"|-100|-100|-100|213.04|186.96|-100|\n",
    "|Quetelet index for cluster \"4\"|-100|-100|-100|-100|500|-100|\n",
    "|Quetelet index for cluster \"5\"|-100|-100|-100|-100|-45.45|445.45|\n",
    "|Quetelet index for cluster \"6\"|-100|-100|500|-100|-100|-100|"
   ]
  },
  {
   "cell_type": "markdown",
   "metadata": {},
   "source": [
    "#### colors"
   ]
  },
  {
   "cell_type": "code",
   "execution_count": 14,
   "metadata": {},
   "outputs": [],
   "source": [
    "quetelet_indeces_colors_7 = np.zeros((7,19))\n",
    "for j, cat in enumerate(colors):\n",
    "    for i in range(7):\n",
    "        p_kv = len(df_cluster[(df_cluster[\"cluster_id_7\"]==i)&(df_cluster[\"Star color\"]==cat)])/240\n",
    "        p_k = len(df_cluster[df_cluster[\"cluster_id_7\"]==i])/240.\n",
    "        p_v = len(df_cluster[df_cluster[\"Star color\"]==cat])/240.\n",
    "        quetelet_indeces_colors_7[i,j] = round(100*(p_kv/(p_k*p_v)-1),2)"
   ]
  },
  {
   "cell_type": "code",
   "execution_count": 15,
   "metadata": {
    "scrolled": false
   },
   "outputs": [
    {
     "data": {
      "text/plain": [
       "array([[  88.38,  -73.63,   50.71,  -12.09,   75.82,  163.74, -100.  ,\n",
       "        -100.  , -100.  , -100.  , -100.  ,  163.74,  -12.09, -100.  ,\n",
       "        -100.  , -100.  , -100.  , -100.  , -100.  ],\n",
       "       [ -86.61, -100.  , -100.  , -100.  , -100.  , -100.  ,  -72.73,\n",
       "         275.  ,  650.  ,  650.  , -100.  , -100.  , -100.  , -100.  ,\n",
       "         650.  ,  650.  ,  650.  , -100.  ,  650.  ],\n",
       "       [  64.29, -100.  ,  128.57, -100.  , -100.  , -100.  ,  -85.45,\n",
       "         -38.46, -100.  , -100.  ,  700.  , -100.  , -100.  , -100.  ,\n",
       "        -100.  , -100.  , -100.  , -100.  , -100.  ],\n",
       "       [-100.  , -100.  , -100.  , -100.  , -100.  , -100.  ,  203.56,\n",
       "         180.94, -100.  , -100.  , -100.  , -100.  , -100.  , -100.  ,\n",
       "        -100.  , -100.  , -100.  , -100.  , -100.  ],\n",
       "       [ -37.5 , -100.  , -100.  , -100.  , -100.  , -100.  ,  209.09,\n",
       "        -100.  , -100.  , -100.  , -100.  , -100.  , -100.  , -100.  ,\n",
       "        -100.  , -100.  , -100.  , -100.  , -100.  ],\n",
       "       [-100.  , -100.  , -100.  , -100.  , -100.  , -100.  ,  177.69,\n",
       "         235.66, -100.  , -100.  , -100.  , -100.  , -100.  , -100.  ,\n",
       "        -100.  , -100.  , -100.  , -100.  , -100.  ],\n",
       "       [-100.  ,  644.83,   18.23,  451.72,  175.86, -100.  ,   80.56,\n",
       "        -100.  , -100.  , -100.  , -100.  , -100.  ,  451.72,  727.59,\n",
       "        -100.  , -100.  , -100.  ,  727.59, -100.  ]])"
      ]
     },
     "execution_count": 15,
     "metadata": {},
     "output_type": "execute_result"
    }
   ],
   "source": [
    "quetelet_indeces_colors_7"
   ]
  },
  {
   "cell_type": "markdown",
   "metadata": {},
   "source": [
    "                                                   Quelet indeces for star color\n",
    "||Red|Blue White|White|Yellowish White|Blue white|Pale yellow orange|Blue|\n",
    "|:-:|:-:|:-:|:-:|:-:|:-:|:-:|:-:|\n",
    "|Quetelet index for cluster \"0\"|88.38|-73.63|50.71|-12.09|75.82|163.74|-100|\n",
    "|Quetelet index for cluster \"1\"|-86.61|-100|-100|-100|-100|-100|-72.73|\n",
    "|Quetelet index for cluster \"2\"|64.29|-100|128.57|-100|-100|-100|-85.45|\n",
    "|Quetelet index for cluster \"3\"|-68.89|-61.29|-100|-100|-100|-100|139.3|\n",
    "|Quetelet index for cluster \"4\"|-37.5|-100|-100|-100|-100|-100|209.09|\n",
    "|Quetelet index for cluster \"5\"|-100|-100|-100|-100|-100|-100|177.69|\n",
    "|Quetelet index for cluster \"6\"|-100|644.83|18.23|451.72|175.86|-100|80.56|\n",
    "\n",
    "||Blue-white|Whitish|yellow-white|Orange|White-Yellow|white|\n",
    "|:-:|:-:|:-:|:-:|:-:|:-:|:-:|\n",
    "|Quetelet index for cluster \"0\"|-100|-100|-100|-100|163.74|-12.09|\n",
    "|Quetelet index for cluster \"1\"|275|650|650|-100|-100|-100|\n",
    "|Quetelet index for cluster \"2\"|-38.46|-100|-100|700|-100|-100|\n",
    "|Quetelet index for cluster \"3\"|167.99|-100|-100|-100|-100|-100|\n",
    "|Quetelet index for cluster \"4\"|-100|-100|-100|-100|-100|-100|\n",
    "|Quetelet index for cluster \"5\"|235.66|-100|-100|-100|-100|-100|\n",
    "|Quetelet index for cluster \"6\"|-100|-100|-100|-100|-100|451.72|\n",
    "\n",
    "||Blue|yellowish|Yellowish|Orange-Red|Blue white|Blue-White|\n",
    "|:-:|:-:|:-:|:-:|:-:|:-:|:-:|\n",
    "|Quetelet index for cluster \"0\"|-100|-100|-100|-100|-100|-100|\n",
    "|Quetelet index for cluster \"1\"|-100|650|650|650|-100|650|\n",
    "|Quetelet index for cluster \"2\"|-100|-100|-100|-100|-100|-100|\n",
    "|Quetelet index for cluster \"3\"|-100|-100|-100|-100|-100|-100|\n",
    "|Quetelet index for cluster \"4\"|-100|-100|-100|-100|-100|-100|\n",
    "|Quetelet index for cluster \"5\"|-100|-100|-100|-100|-100|-100|\n",
    "|Quetelet index for cluster \"6\"|727.59|-100|-100|-100|727.59|-100|"
   ]
  },
  {
   "cell_type": "markdown",
   "metadata": {},
   "source": [
    "#### classes"
   ]
  },
  {
   "cell_type": "code",
   "execution_count": 16,
   "metadata": {},
   "outputs": [],
   "source": [
    "quetelet_indeces_classes_7 = np.zeros((7,7))\n",
    "for j, cat in enumerate(classes):\n",
    "    for i in range(7):\n",
    "        p_kv = len(df_cluster[(df_cluster[\"cluster_id_7\"]==i)&(df_cluster[\"Spectral Class\"]==cat)])/240.\n",
    "        p_k = len(df_cluster[df_cluster[\"cluster_id_7\"]==i])/240.\n",
    "        p_v = len(df_cluster[df_cluster[\"Spectral Class\"]==cat])/240.\n",
    "        quetelet_indeces_classes_7[i,j] = round(100*(p_kv/(p_k*p_v)-1),2)"
   ]
  },
  {
   "cell_type": "code",
   "execution_count": 17,
   "metadata": {
    "scrolled": true
   },
   "outputs": [
    {
     "data": {
      "text/plain": [
       "array([[  90.08, -100.  ,   -2.83,  -37.94, -100.  , -100.  , -100.  ],\n",
       "       [ -86.49,   -2.17,  294.74,  252.94,  -62.5 ,  400.  , -100.  ],\n",
       "       [  58.56,  -65.22,  -15.79, -100.  ,  -80.  ,  166.67,  700.  ],\n",
       "       [-100.  ,  104.16, -100.  , -100.  ,  265.22, -100.  , -100.  ],\n",
       "       [ -36.94, -100.  , -100.  , -100.  ,  325.  , -100.  , -100.  ],\n",
       "       [-100.  ,  137.15, -100.  , -100.  ,  227.27, -100.  , -100.  ],\n",
       "       [-100.  ,  331.78, -100.  ,  143.41, -100.  , -100.  , -100.  ]])"
      ]
     },
     "execution_count": 17,
     "metadata": {},
     "output_type": "execute_result"
    }
   ],
   "source": [
    "quetelet_indeces_classes_7"
   ]
  },
  {
   "cell_type": "markdown",
   "metadata": {},
   "source": [
    "                                                   Quelet indeces for spectral classes\n",
    "| |M|B|A|F|O|K|G|\n",
    "|:-:|:-:|:-:|:-:|:-:|:-:|:-:|:-:|\n",
    "|Quetelet index for cluster \"0\"|90.08|-100|-2.83|-37.94|-100|-100|-100.|\n",
    "|Quetelet index for cluster \"1\"|-86.49|-2.17|294.74|252.94|-62.5|400|-100|\n",
    "|Quetelet index for cluster \"2\"|58.56|-65.22|-15.79|-100|-80|166.67|700|\n",
    "|Quetelet index for cluster \"3\"|-100|104.16|-100|-100|265.22|-100|-100|\n",
    "|Quetelet index for cluster \"4\"|-36.94|-100|-100|-100|325|-100|-100|\n",
    "|Quetelet index for cluster \"5\"|-100|137.15|-100|-100|227.27|-100|-100|\n",
    "|Quetelet index for cluster \"6\"|-100|331.78|-100|143.41|-100|-100|-100|\n"
   ]
  },
  {
   "cell_type": "code",
   "execution_count": null,
   "metadata": {},
   "outputs": [],
   "source": []
  }
 ],
 "metadata": {
  "kernelspec": {
   "display_name": "Python 3",
   "language": "python",
   "name": "python3"
  },
  "language_info": {
   "codemirror_mode": {
    "name": "ipython",
    "version": 3
   },
   "file_extension": ".py",
   "mimetype": "text/x-python",
   "name": "python",
   "nbconvert_exporter": "python",
   "pygments_lexer": "ipython3",
   "version": "3.7.6"
  }
 },
 "nbformat": 4,
 "nbformat_minor": 4
}
