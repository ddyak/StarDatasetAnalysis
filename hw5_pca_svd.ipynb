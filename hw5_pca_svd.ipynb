{
 "cells": [
  {
   "cell_type": "code",
   "execution_count": 1,
   "metadata": {},
   "outputs": [],
   "source": [
    "import numpy as np\n",
    "import pandas as pd\n",
    "import matplotlib.pyplot as plt\n",
    "import numpy.linalg as lg\n",
    "import seaborn as sbn\n",
    "from sklearn.linear_model import LinearRegression\n",
    "%matplotlib inline"
   ]
  },
  {
   "cell_type": "code",
   "execution_count": 2,
   "metadata": {},
   "outputs": [
    {
     "data": {
      "text/html": [
       "<div>\n",
       "<style scoped>\n",
       "    .dataframe tbody tr th:only-of-type {\n",
       "        vertical-align: middle;\n",
       "    }\n",
       "\n",
       "    .dataframe tbody tr th {\n",
       "        vertical-align: top;\n",
       "    }\n",
       "\n",
       "    .dataframe thead th {\n",
       "        text-align: right;\n",
       "    }\n",
       "</style>\n",
       "<table border=\"1\" class=\"dataframe\">\n",
       "  <thead>\n",
       "    <tr style=\"text-align: right;\">\n",
       "      <th></th>\n",
       "      <th>Temperature (K)</th>\n",
       "      <th>Luminosity(L/Lo)</th>\n",
       "      <th>Radius(R/Ro)</th>\n",
       "      <th>Absolute magnitude(Mv)</th>\n",
       "      <th>Star type</th>\n",
       "      <th>Star color</th>\n",
       "      <th>Spectral Class</th>\n",
       "    </tr>\n",
       "  </thead>\n",
       "  <tbody>\n",
       "    <tr>\n",
       "      <th>0</th>\n",
       "      <td>3068</td>\n",
       "      <td>0.002400</td>\n",
       "      <td>0.1700</td>\n",
       "      <td>16.12</td>\n",
       "      <td>0</td>\n",
       "      <td>Red</td>\n",
       "      <td>M</td>\n",
       "    </tr>\n",
       "    <tr>\n",
       "      <th>1</th>\n",
       "      <td>3042</td>\n",
       "      <td>0.000500</td>\n",
       "      <td>0.1542</td>\n",
       "      <td>16.60</td>\n",
       "      <td>0</td>\n",
       "      <td>Red</td>\n",
       "      <td>M</td>\n",
       "    </tr>\n",
       "    <tr>\n",
       "      <th>2</th>\n",
       "      <td>2600</td>\n",
       "      <td>0.000300</td>\n",
       "      <td>0.1020</td>\n",
       "      <td>18.70</td>\n",
       "      <td>0</td>\n",
       "      <td>Red</td>\n",
       "      <td>M</td>\n",
       "    </tr>\n",
       "    <tr>\n",
       "      <th>3</th>\n",
       "      <td>2800</td>\n",
       "      <td>0.000200</td>\n",
       "      <td>0.1600</td>\n",
       "      <td>16.65</td>\n",
       "      <td>0</td>\n",
       "      <td>Red</td>\n",
       "      <td>M</td>\n",
       "    </tr>\n",
       "    <tr>\n",
       "      <th>4</th>\n",
       "      <td>1939</td>\n",
       "      <td>0.000138</td>\n",
       "      <td>0.1030</td>\n",
       "      <td>20.06</td>\n",
       "      <td>0</td>\n",
       "      <td>Red</td>\n",
       "      <td>M</td>\n",
       "    </tr>\n",
       "  </tbody>\n",
       "</table>\n",
       "</div>"
      ],
      "text/plain": [
       "   Temperature (K)  Luminosity(L/Lo)  Radius(R/Ro)  Absolute magnitude(Mv)  \\\n",
       "0             3068          0.002400        0.1700                   16.12   \n",
       "1             3042          0.000500        0.1542                   16.60   \n",
       "2             2600          0.000300        0.1020                   18.70   \n",
       "3             2800          0.000200        0.1600                   16.65   \n",
       "4             1939          0.000138        0.1030                   20.06   \n",
       "\n",
       "   Star type Star color Spectral Class  \n",
       "0          0        Red              M  \n",
       "1          0        Red              M  \n",
       "2          0        Red              M  \n",
       "3          0        Red              M  \n",
       "4          0        Red              M  "
      ]
     },
     "execution_count": 2,
     "metadata": {},
     "output_type": "execute_result"
    }
   ],
   "source": [
    "df = pd.read_csv('star_dataset.csv')\n",
    "df.head()"
   ]
  },
  {
   "cell_type": "code",
   "execution_count": 3,
   "metadata": {},
   "outputs": [],
   "source": [
    "def standardizer(x):\n",
    "    \n",
    "    \"\"\"\n",
    "        standardize entity-to-feature data matrix by \n",
    "          applying Z-scoring, Range standardization and Rank methods\n",
    "        \n",
    "        Arguments: \n",
    "            x, numpy array, entity-to-feature data matrix\n",
    "        Returns:\n",
    "            Z-scored and Range standardized data matrices, x_zscore, x_range, x_rank.\n",
    "    \"\"\"\n",
    "    \n",
    "    x_ave = np.mean(x, axis=0)\n",
    "    x_min = np.min(x, axis=0)\n",
    "    x_rng = np.max(x, axis=0)-np.min(x, axis=0)\n",
    "    x_std = np.std(x, axis=0)\n",
    "    x_zscore = np.divide(np.subtract(x, x_ave), x_std)   # Z-scoring standardization/ StandardScaler\n",
    "    x_range = np.divide(np.subtract(x, x_ave), x_rng)  # Range standardization \n",
    "    x_rank = np.divide(np.subtract(x, x_min), x_rng) # Rank standardization \n",
    "    return x_zscore, x_range, x_rank"
   ]
  },
  {
   "cell_type": "code",
   "execution_count": 22,
   "metadata": {},
   "outputs": [],
   "source": [
    "def singular_decomposition(x):\n",
    "    z, mu, c = lg.svd(x, full_matrices=True)  \n",
    "    z = -z\n",
    "    c = -c \n",
    "    mu_arg_max = np.argmax(mu)\n",
    "    \n",
    "    n_contributions = np.power(mu, 2)\n",
    "    print(\"n_contributions: \", n_contributions)\n",
    "\n",
    "    ds = np.sum(np.power(mu, 2))  # Data Scatter\n",
    "    print(\"ds: \", ds)\n",
    "\n",
    "    # Determine contributions of all the principal components to the data scatter \n",
    "    p_contributions = np.divide(n_contributions, ds)\n",
    "    \n",
    "    return z, mu, c, ds, n_contributions, p_contributions, mu_arg_max"
   ]
  },
  {
   "cell_type": "markdown",
   "metadata": {},
   "source": [
    "## Part 1\n",
    "In your data set, select a subset of 3-6 features related to the same aspect and explain your choice (may be the same subset that was used for k-means clustering)"
   ]
  },
  {
   "cell_type": "code",
   "execution_count": 5,
   "metadata": {},
   "outputs": [
    {
     "data": {
      "text/html": [
       "<div>\n",
       "<style scoped>\n",
       "    .dataframe tbody tr th:only-of-type {\n",
       "        vertical-align: middle;\n",
       "    }\n",
       "\n",
       "    .dataframe tbody tr th {\n",
       "        vertical-align: top;\n",
       "    }\n",
       "\n",
       "    .dataframe thead th {\n",
       "        text-align: right;\n",
       "    }\n",
       "</style>\n",
       "<table border=\"1\" class=\"dataframe\">\n",
       "  <thead>\n",
       "    <tr style=\"text-align: right;\">\n",
       "      <th></th>\n",
       "      <th>Temperature</th>\n",
       "      <th>Luminosity</th>\n",
       "      <th>Radius</th>\n",
       "      <th>Absolute magnitude</th>\n",
       "    </tr>\n",
       "  </thead>\n",
       "  <tbody>\n",
       "    <tr>\n",
       "      <th>0</th>\n",
       "      <td>3068</td>\n",
       "      <td>0.002400</td>\n",
       "      <td>0.1700</td>\n",
       "      <td>16.12</td>\n",
       "    </tr>\n",
       "    <tr>\n",
       "      <th>1</th>\n",
       "      <td>3042</td>\n",
       "      <td>0.000500</td>\n",
       "      <td>0.1542</td>\n",
       "      <td>16.60</td>\n",
       "    </tr>\n",
       "    <tr>\n",
       "      <th>2</th>\n",
       "      <td>2600</td>\n",
       "      <td>0.000300</td>\n",
       "      <td>0.1020</td>\n",
       "      <td>18.70</td>\n",
       "    </tr>\n",
       "    <tr>\n",
       "      <th>3</th>\n",
       "      <td>2800</td>\n",
       "      <td>0.000200</td>\n",
       "      <td>0.1600</td>\n",
       "      <td>16.65</td>\n",
       "    </tr>\n",
       "    <tr>\n",
       "      <th>4</th>\n",
       "      <td>1939</td>\n",
       "      <td>0.000138</td>\n",
       "      <td>0.1030</td>\n",
       "      <td>20.06</td>\n",
       "    </tr>\n",
       "    <tr>\n",
       "      <th>...</th>\n",
       "      <td>...</td>\n",
       "      <td>...</td>\n",
       "      <td>...</td>\n",
       "      <td>...</td>\n",
       "    </tr>\n",
       "    <tr>\n",
       "      <th>235</th>\n",
       "      <td>38940</td>\n",
       "      <td>374830.000000</td>\n",
       "      <td>1356.0000</td>\n",
       "      <td>-9.93</td>\n",
       "    </tr>\n",
       "    <tr>\n",
       "      <th>236</th>\n",
       "      <td>30839</td>\n",
       "      <td>834042.000000</td>\n",
       "      <td>1194.0000</td>\n",
       "      <td>-10.63</td>\n",
       "    </tr>\n",
       "    <tr>\n",
       "      <th>237</th>\n",
       "      <td>8829</td>\n",
       "      <td>537493.000000</td>\n",
       "      <td>1423.0000</td>\n",
       "      <td>-10.73</td>\n",
       "    </tr>\n",
       "    <tr>\n",
       "      <th>238</th>\n",
       "      <td>9235</td>\n",
       "      <td>404940.000000</td>\n",
       "      <td>1112.0000</td>\n",
       "      <td>-11.23</td>\n",
       "    </tr>\n",
       "    <tr>\n",
       "      <th>239</th>\n",
       "      <td>37882</td>\n",
       "      <td>294903.000000</td>\n",
       "      <td>1783.0000</td>\n",
       "      <td>-7.80</td>\n",
       "    </tr>\n",
       "  </tbody>\n",
       "</table>\n",
       "<p>240 rows × 4 columns</p>\n",
       "</div>"
      ],
      "text/plain": [
       "     Temperature     Luminosity     Radius  Absolute magnitude\n",
       "0           3068       0.002400     0.1700               16.12\n",
       "1           3042       0.000500     0.1542               16.60\n",
       "2           2600       0.000300     0.1020               18.70\n",
       "3           2800       0.000200     0.1600               16.65\n",
       "4           1939       0.000138     0.1030               20.06\n",
       "..           ...            ...        ...                 ...\n",
       "235        38940  374830.000000  1356.0000               -9.93\n",
       "236        30839  834042.000000  1194.0000              -10.63\n",
       "237         8829  537493.000000  1423.0000              -10.73\n",
       "238         9235  404940.000000  1112.0000              -11.23\n",
       "239        37882  294903.000000  1783.0000               -7.80\n",
       "\n",
       "[240 rows x 4 columns]"
      ]
     },
     "execution_count": 5,
     "metadata": {},
     "output_type": "execute_result"
    }
   ],
   "source": [
    "df.rename(columns={'Temperature (K)': 'Temperature', 'Luminosity(L/Lo)': 'Luminosity', 'Radius(R/Ro)':'Radius',\n",
    "                  'Absolute magnitude(Mv)':'Absolute magnitude'}, inplace=True)\n",
    "quantitative_columns = ['Temperature', 'Luminosity', 'Radius', 'Absolute magnitude']\n",
    "\n",
    "X = df[quantitative_columns]\n",
    "X"
   ]
  },
  {
   "cell_type": "markdown",
   "metadata": {},
   "source": [
    "## Part 2.\n",
    "\n",
    "Standardize the selected subset; compute its data scatter and SVD; determine contributions of all the principal components to the data scatter, naturally and per cent"
   ]
  },
  {
   "cell_type": "code",
   "execution_count": 6,
   "metadata": {},
   "outputs": [],
   "source": [
    "x_zscore, x_range, x_rank = standardizer(x=X)"
   ]
  },
  {
   "cell_type": "code",
   "execution_count": 23,
   "metadata": {},
   "outputs": [
    {
     "name": "stdout",
     "output_type": "stream",
     "text": [
      "n_contributions:  [1.04701417e+13 3.04145073e+10 4.70629586e+07 2.37951549e+04]\n",
      "ds:  10500603295793.564\n",
      "SVD\n",
      "U: [[ 3.91972718e-05 -1.75769413e-02 -8.99915824e-04 ...  4.32169233e-02\n",
      "   4.21049371e-02  1.64754571e-01]\n",
      " [ 3.88645000e-05 -1.74279859e-02 -8.89844263e-04 ... -1.75505225e-01\n",
      "  -1.25519068e-01  1.00027540e-02]\n",
      " [ 3.32174398e-05 -1.48957226e-02 -7.53627895e-04 ...  7.36611090e-02\n",
      "   5.94190503e-02  1.88707634e-01]\n",
      " ...\n",
      " [ 1.66081594e-01  7.68328498e-02 -7.03178257e-02 ... -9.60287711e-01\n",
      "   2.83796643e-02  1.56399942e-02]\n",
      " [ 1.25156666e-01  4.30850083e-02 -5.95435180e-02 ...  2.83465548e-02\n",
      "  -9.78944404e-01  1.67258531e-02]\n",
      " [ 9.15455888e-02 -1.47110341e-01 -1.94199041e-01 ...  1.65308022e-02\n",
      "   1.66469061e-02 -9.31105108e-01]]\n",
      "Sigma: [3.23575983e+06 1.74397555e+05 6.86024479e+03 1.54256782e+02]\n",
      "V*: [[ 4.13398236e-02  9.99143699e-01  1.69918151e-03 -1.90918876e-05]\n",
      " [-9.99143144e-01  4.13363114e-02  2.04829346e-03 -3.02725394e-04]\n",
      " [-1.97746978e-03  1.78251192e-03 -9.99988764e-01  3.92234827e-03]\n",
      " [-2.93922696e-04  2.45976481e-05  3.92298707e-03  9.99992262e-01]]\n"
     ]
    }
   ],
   "source": [
    "# Singular decomposition on original data \n",
    "z_x, mu_x, c_x, ds_x, n_contributions_x, p_contributions_x, mu_argmax_x = \\\n",
    "singular_decomposition(x=X)\n",
    "print(\"SVD\")\n",
    "print(\"U:\", z_x)\n",
    "print(\"Sigma:\", mu_x)\n",
    "print(\"V*:\", c_x)"
   ]
  },
  {
   "cell_type": "code",
   "execution_count": 26,
   "metadata": {},
   "outputs": [
    {
     "name": "stdout",
     "output_type": "stream",
     "text": [
      "n_contributions:  [579.43095279 225.60752798  89.56459358  65.39692565]\n",
      "ds:  959.9999999999997\n",
      "SVD\n",
      "U: [[ 0.06132141  0.02284989 -0.01668461 ...  0.01864612  0.0138139\n",
      "  -0.17797746]\n",
      " [ 0.06246649  0.02289292 -0.01710579 ... -0.17109863 -0.12027931\n",
      "   0.00577292]\n",
      " [ 0.06797651  0.02496603 -0.02031495 ... -0.06176361 -0.05318097\n",
      "  -0.21918571]\n",
      " ...\n",
      " [-0.13339922  0.09919886 -0.05945816 ... -0.96444296  0.02338664\n",
      "   0.01509854]\n",
      " [-0.10608223  0.07437359 -0.03232511 ...  0.02294347 -0.98285746\n",
      "   0.00591266]\n",
      " [-0.15327085 -0.04132412  0.20715114 ...  0.01446281  0.00600947\n",
      "  -0.90531603]]\n",
      "Sigma: [24.07137206 15.02023728  9.46385723  8.08683657]\n",
      "V*: [[-0.35018343 -0.55933789 -0.47477107  0.58232734]\n",
      " [-0.82161262 -0.00452564  0.56898115 -0.03453503]\n",
      " [ 0.37607837 -0.75509623  0.53314117 -0.06446119]\n",
      " [ 0.24675763  0.34198002  0.40818302  0.80965855]]\n"
     ]
    }
   ],
   "source": [
    "# Singular decomposition on Z-Scored standardized data\n",
    "z_x_zscore, mu_x_zscore, c_x_zscore, ds_x_zscore,\\\n",
    "n_contributions_x_zscore, p_contributions_x_zscore, mu_argmax_x_zscore  = \\\n",
    "singular_decomposition(x=x_zscore)\n",
    "print(\"SVD\")\n",
    "print(\"U:\", z_x_zscore)\n",
    "print(\"Sigma:\", mu_x_zscore)\n",
    "print(\"V*:\", c_x_zscore)"
   ]
  },
  {
   "cell_type": "code",
   "execution_count": 27,
   "metadata": {},
   "outputs": [
    {
     "name": "stdout",
     "output_type": "stream",
     "text": [
      "n_contributions:  [43.65724489 14.67708561  5.7745109   4.3707891 ]\n",
      "ds:  68.47963049549087\n",
      "SVD\n",
      "U: [[ 0.06566131  0.02565575  0.02068869 ...  0.01864612  0.0138139\n",
      "  -0.17797746]\n",
      " [ 0.06735571  0.02584818  0.02427366 ... -0.17109863 -0.12027931\n",
      "   0.00577292]\n",
      " [ 0.07515804  0.02852901  0.03827494 ... -0.06176361 -0.05318097\n",
      "  -0.21918571]\n",
      " ...\n",
      " [-0.12373692  0.09462852  0.03597184 ... -0.96444296  0.02338664\n",
      "   0.01509854]\n",
      " [-0.10530785  0.06975847 -0.0080703  ...  0.02294347 -0.98285746\n",
      "   0.00591266]\n",
      " [-0.14378221 -0.03725076  0.25980513 ...  0.01446281  0.00600947\n",
      "  -0.90531603]]\n",
      "Sigma: [6.60736293 3.83106847 2.4030212  2.09064323]\n",
      "V*: [[-0.29874304 -0.39982598 -0.46366863  0.73205408]\n",
      " [-0.81632001 -0.03596368  0.5763485   0.01227448]\n",
      " [ 0.46959659 -0.01569408  0.65145473  0.59568404]\n",
      " [-0.1544451   0.91575078 -0.16864323  0.330313  ]]\n"
     ]
    }
   ],
   "source": [
    "# Singular decomposition on Range standardized data\n",
    "z_x_range, mu_x_range, c_x_range, ds_x_range,\\\n",
    "n_contributions_x_range, p_contributions_x_range,mu_argmax_x_range = \\\n",
    "singular_decomposition(x=x_range)\n",
    "print(\"SVD\")\n",
    "print(\"U:\", z_x_range)\n",
    "print(\"Sigma:\", mu_x_range)\n",
    "print(\"V*:\", c_x_range)"
   ]
  },
  {
   "cell_type": "code",
   "execution_count": 28,
   "metadata": {},
   "outputs": [
    {
     "name": "stdout",
     "output_type": "stream",
     "text": [
      "n_contributions:  [94.83496975 36.67728513 14.22826672  4.61841187]\n",
      "ds:  150.35893347031083\n",
      "SVD\n",
      "U: [[ 0.08623102  0.03685018 -0.03085358 ...  0.0370722   0.03770005\n",
      "   0.1709604 ]\n",
      " [ 0.08767107  0.03759248 -0.03159861 ... -0.17877728 -0.12768141\n",
      "   0.01040809]\n",
      " [ 0.09371058  0.04164006 -0.03644315 ...  0.07046201  0.05906135\n",
      "   0.18897713]\n",
      " ...\n",
      " [ 0.02093518 -0.1395772  -0.11346408 ... -0.96095803  0.02867502\n",
      "   0.01436116]\n",
      " [ 0.01696782 -0.11252599 -0.07887478 ...  0.02867547 -0.97867616\n",
      "   0.01492314]\n",
      " [ 0.05139389 -0.19891292 -0.00734302 ...  0.01461407  0.01502313\n",
      "  -0.92038504]]\n",
      "Sigma: [9.73832479 6.05617744 3.77203748 2.14904906]\n",
      "V*: [[ 0.29448451  0.09911757  0.07199447  0.9477718 ]\n",
      " [-0.56235793 -0.52845282 -0.57413342  0.27360921]\n",
      " [ 0.69253414 -0.05494345 -0.7021478  -0.1560966 ]\n",
      " [ 0.342679   -0.84136469  0.41494106 -0.05000475]]\n"
     ]
    }
   ],
   "source": [
    "# Singular decomposition on Rank standardized data\n",
    "z_x_rank, mu_x_rank, c_x_rank, ds_x_rank, \\\n",
    "n_contributions_x_rank, p_contributions_x_rank, mu_argmax_x_rank = \\\n",
    "singular_decomposition(x=x_rank)\n",
    "print(\"SVD\")\n",
    "print(\"U:\", z_x_rank)\n",
    "print(\"Sigma:\", mu_x_rank)\n",
    "print(\"V*:\", c_x_rank)"
   ]
  },
  {
   "cell_type": "code",
   "execution_count": 29,
   "metadata": {},
   "outputs": [
    {
     "name": "stdout",
     "output_type": "stream",
     "text": [
      "Natural contributions of \n",
      " Original data       : [1.04701417e+13 3.04145073e+10 4.70629586e+07 2.37951549e+04] \n",
      " Ranked std data     : [94.83496975 36.67728513 14.22826672  4.61841187] \n",
      " Ranged std data     : [43.65724489 14.67708561  5.7745109   4.3707891 ] \n",
      " Z-Scored std data   : [579.43095279 225.60752798  89.56459358  65.39692565]\n"
     ]
    }
   ],
   "source": [
    "print(\"Natural contributions of \\n\",\n",
    "      \"Original data       :\", n_contributions_x, \"\\n\",\n",
    "      \"Ranked std data     :\", n_contributions_x_rank, \"\\n\",\n",
    "      \"Ranged std data     :\", n_contributions_x_range, \"\\n\",\n",
    "      \"Z-Scored std data   :\", n_contributions_x_zscore,)"
   ]
  },
  {
   "cell_type": "code",
   "execution_count": 30,
   "metadata": {},
   "outputs": [
    {
     "name": "stdout",
     "output_type": "stream",
     "text": [
      "Percent contributions of \n",
      " Original data       :\n",
      " [9.97099062e+01 2.89645332e-01 4.48192902e-04 2.26607503e-07] \n",
      " Ranked std data     :\n",
      " [63.07238789 24.39315329  9.46286755  3.07159127] \n",
      " Ranged std data     :\n",
      " [63.75216189 21.43277571  8.43245043  6.38261197] \n",
      " Z-Scored std data   :\n",
      " [60.35739092 23.50078416  9.32964516  6.81217975]\n"
     ]
    }
   ],
   "source": [
    "print(\"Percent contributions of \\n\",\n",
    "      \"Original data       :\\n\", 100*p_contributions_x, \"\\n\",\n",
    "      \"Ranked std data     :\\n\", 100*p_contributions_x_rank, \"\\n\",\n",
    "      \"Ranged std data     :\\n\", 100*p_contributions_x_range, \"\\n\",\n",
    "      \"Z-Scored std data   :\\n\", 100*p_contributions_x_zscore,)"
   ]
  },
  {
   "cell_type": "code",
   "execution_count": 31,
   "metadata": {},
   "outputs": [
    {
     "name": "stdout",
     "output_type": "stream",
     "text": [
      "Data scetter \n",
      " Original data       : 10500603295793.564 \n",
      " Rank std data     : 150.35893347031083 \n",
      " Range std data     : 68.47963049549087 \n",
      " Z-Score std data   : 959.9999999999997\n"
     ]
    }
   ],
   "source": [
    "print(\"Data scetter \\n\",\n",
    "      \"Original data       :\", ds_x, \"\\n\",\n",
    "      \"Rank std data     :\", ds_x_rank, \"\\n\",\n",
    "      \"Range std data     :\", ds_x_range, \"\\n\",\n",
    "      \"Z-Score std data   :\", ds_x_zscore,)"
   ]
  },
  {
   "cell_type": "markdown",
   "metadata": {},
   "source": [
    "## Part 3.\n",
    "Compute and interpret a hidden ranking factor behind the selected features. The factor should be expressed in a 0-100 rank scale (as well as the features – ranking normalization)."
   ]
  },
  {
   "cell_type": "code",
   "execution_count": 184,
   "metadata": {},
   "outputs": [],
   "source": [
    "def part_3(x, z, c, mu, argmax):    \n",
    "    z1 = z[:, argmax]  # hiden score\n",
    "    c1 = c[argmax, :]  # loading\n",
    "    mu1 = mu[argmax]\n",
    "    print(\"c1             :\", c1)\n",
    "    max_val = x.max()\n",
    "    alpha = 100/np.sum(c1*max_val)\n",
    "    loading = c1*alpha  \n",
    "    print(\"Loading        :\", loading)\n",
    "    ranking_factors = x.dot(c1)\n",
    "    rank_min = min(ranking_factors)\n",
    "    rank_max = max(ranking_factors)\n",
    "    ranking_factors = (ranking_factors - rank_min)/(rank_max - rank_min)\n",
    "    arg_top5 = np.argsort(ranking_factors)[::-1][:5]\n",
    "    top_5 = np.sort(ranking_factors,)[::-1][:5]\n",
    "    \n",
    "    contribution = 100*mu[0]**2/((x*x).sum().sum())\n",
    "    print(\"Contribution: \", contribution)\n",
    "    \n",
    "    print(\"Top5 stars:\", top_5)\n",
    "    return loading, ranking_factors, arg_top5"
   ]
  },
  {
   "cell_type": "markdown",
   "metadata": {},
   "source": [
    "#### Original data"
   ]
  },
  {
   "cell_type": "code",
   "execution_count": 186,
   "metadata": {
    "scrolled": true
   },
   "outputs": [
    {
     "name": "stdout",
     "output_type": "stream",
     "text": [
      "c1             : [ 4.13398236e-02  9.99143699e-01  1.69918151e-03 -1.90918876e-05]\n",
      "Loading        : [ 4.86150946e-06  1.17497999e-04  1.99821535e-07 -2.24518114e-09]\n",
      "Contribution:  99.7099062480946\n",
      "Top5 stars: [1.         0.98206935 0.95777161 0.92217711 0.88150324]\n"
     ]
    }
   ],
   "source": [
    "_, ranking_factors, arg_top5 = part_3(x=X, z=z_x, c=c_x, mu=mu_x, argmax=mu_argmax_x)"
   ]
  },
  {
   "cell_type": "code",
   "execution_count": 187,
   "metadata": {},
   "outputs": [
    {
     "data": {
      "text/html": [
       "<div>\n",
       "<style scoped>\n",
       "    .dataframe tbody tr th:only-of-type {\n",
       "        vertical-align: middle;\n",
       "    }\n",
       "\n",
       "    .dataframe tbody tr th {\n",
       "        vertical-align: top;\n",
       "    }\n",
       "\n",
       "    .dataframe thead th {\n",
       "        text-align: right;\n",
       "    }\n",
       "</style>\n",
       "<table border=\"1\" class=\"dataframe\">\n",
       "  <thead>\n",
       "    <tr style=\"text-align: right;\">\n",
       "      <th></th>\n",
       "      <th>Temperature</th>\n",
       "      <th>Luminosity</th>\n",
       "      <th>Radius</th>\n",
       "      <th>Absolute magnitude</th>\n",
       "      <th>Star type</th>\n",
       "      <th>Star color</th>\n",
       "      <th>Spectral Class</th>\n",
       "    </tr>\n",
       "  </thead>\n",
       "  <tbody>\n",
       "    <tr>\n",
       "      <th>233</th>\n",
       "      <td>27739</td>\n",
       "      <td>849420.0</td>\n",
       "      <td>1252.0</td>\n",
       "      <td>-7.590</td>\n",
       "      <td>5</td>\n",
       "      <td>Blue-white</td>\n",
       "      <td>B</td>\n",
       "    </tr>\n",
       "    <tr>\n",
       "      <th>236</th>\n",
       "      <td>30839</td>\n",
       "      <td>834042.0</td>\n",
       "      <td>1194.0</td>\n",
       "      <td>-10.630</td>\n",
       "      <td>5</td>\n",
       "      <td>Blue</td>\n",
       "      <td>O</td>\n",
       "    </tr>\n",
       "    <tr>\n",
       "      <th>101</th>\n",
       "      <td>40000</td>\n",
       "      <td>813000.0</td>\n",
       "      <td>14.0</td>\n",
       "      <td>-6.230</td>\n",
       "      <td>4</td>\n",
       "      <td>Blue</td>\n",
       "      <td>O</td>\n",
       "    </tr>\n",
       "    <tr>\n",
       "      <th>227</th>\n",
       "      <td>10930</td>\n",
       "      <td>783930.0</td>\n",
       "      <td>25.0</td>\n",
       "      <td>-6.224</td>\n",
       "      <td>4</td>\n",
       "      <td>Blue</td>\n",
       "      <td>O</td>\n",
       "    </tr>\n",
       "    <tr>\n",
       "      <th>229</th>\n",
       "      <td>21738</td>\n",
       "      <td>748890.0</td>\n",
       "      <td>92.0</td>\n",
       "      <td>-7.346</td>\n",
       "      <td>4</td>\n",
       "      <td>Blue</td>\n",
       "      <td>O</td>\n",
       "    </tr>\n",
       "  </tbody>\n",
       "</table>\n",
       "</div>"
      ],
      "text/plain": [
       "     Temperature  Luminosity  Radius  Absolute magnitude  Star type  \\\n",
       "233        27739    849420.0  1252.0              -7.590          5   \n",
       "236        30839    834042.0  1194.0             -10.630          5   \n",
       "101        40000    813000.0    14.0              -6.230          4   \n",
       "227        10930    783930.0    25.0              -6.224          4   \n",
       "229        21738    748890.0    92.0              -7.346          4   \n",
       "\n",
       "     Star color Spectral Class  \n",
       "233  Blue-white              B  \n",
       "236        Blue              O  \n",
       "101        Blue              O  \n",
       "227        Blue              O  \n",
       "229        Blue              O  "
      ]
     },
     "execution_count": 187,
     "metadata": {},
     "output_type": "execute_result"
    }
   ],
   "source": [
    "df.loc[arg_top5]"
   ]
  },
  {
   "cell_type": "markdown",
   "metadata": {},
   "source": [
    "#### Z-Scored standardized data"
   ]
  },
  {
   "cell_type": "code",
   "execution_count": 188,
   "metadata": {
    "scrolled": true
   },
   "outputs": [
    {
     "name": "stdout",
     "output_type": "stream",
     "text": [
      "c1             : [-0.35018343 -0.55933789 -0.47477107  0.58232734]\n",
      "Loading        : [  8.5241555   13.61538772  11.55686453 -14.17499625]\n",
      "Contribution:  60.35739091573396\n",
      "Top5 stars: [1.         0.99260288 0.99077519 0.99028511 0.99020983]\n"
     ]
    }
   ],
   "source": [
    "_, ranking_factors, arg_top5 = part_3(x=x_zscore, z=z_x_zscore, c=c_x_zscore, mu=mu_x_zscore, argmax=mu_argmax_x_zscore)"
   ]
  },
  {
   "cell_type": "code",
   "execution_count": 189,
   "metadata": {},
   "outputs": [
    {
     "data": {
      "text/html": [
       "<div>\n",
       "<style scoped>\n",
       "    .dataframe tbody tr th:only-of-type {\n",
       "        vertical-align: middle;\n",
       "    }\n",
       "\n",
       "    .dataframe tbody tr th {\n",
       "        vertical-align: top;\n",
       "    }\n",
       "\n",
       "    .dataframe thead th {\n",
       "        text-align: right;\n",
       "    }\n",
       "</style>\n",
       "<table border=\"1\" class=\"dataframe\">\n",
       "  <thead>\n",
       "    <tr style=\"text-align: right;\">\n",
       "      <th></th>\n",
       "      <th>Temperature</th>\n",
       "      <th>Luminosity</th>\n",
       "      <th>Radius</th>\n",
       "      <th>Absolute magnitude</th>\n",
       "      <th>Star type</th>\n",
       "      <th>Star color</th>\n",
       "      <th>Spectral Class</th>\n",
       "    </tr>\n",
       "  </thead>\n",
       "  <tbody>\n",
       "    <tr>\n",
       "      <th>4</th>\n",
       "      <td>1939</td>\n",
       "      <td>0.000138</td>\n",
       "      <td>0.1030</td>\n",
       "      <td>20.06</td>\n",
       "      <td>0</td>\n",
       "      <td>Red</td>\n",
       "      <td>M</td>\n",
       "    </tr>\n",
       "    <tr>\n",
       "      <th>122</th>\n",
       "      <td>3218</td>\n",
       "      <td>0.000540</td>\n",
       "      <td>0.1100</td>\n",
       "      <td>20.02</td>\n",
       "      <td>0</td>\n",
       "      <td>Red</td>\n",
       "      <td>M</td>\n",
       "    </tr>\n",
       "    <tr>\n",
       "      <th>128</th>\n",
       "      <td>2856</td>\n",
       "      <td>0.000896</td>\n",
       "      <td>0.0782</td>\n",
       "      <td>19.56</td>\n",
       "      <td>0</td>\n",
       "      <td>Red</td>\n",
       "      <td>M</td>\n",
       "    </tr>\n",
       "    <tr>\n",
       "      <th>188</th>\n",
       "      <td>2778</td>\n",
       "      <td>0.000849</td>\n",
       "      <td>0.1120</td>\n",
       "      <td>19.45</td>\n",
       "      <td>0</td>\n",
       "      <td>Red</td>\n",
       "      <td>M</td>\n",
       "    </tr>\n",
       "    <tr>\n",
       "      <th>121</th>\n",
       "      <td>3531</td>\n",
       "      <td>0.000930</td>\n",
       "      <td>0.0976</td>\n",
       "      <td>19.94</td>\n",
       "      <td>0</td>\n",
       "      <td>Red</td>\n",
       "      <td>M</td>\n",
       "    </tr>\n",
       "  </tbody>\n",
       "</table>\n",
       "</div>"
      ],
      "text/plain": [
       "     Temperature  Luminosity  Radius  Absolute magnitude  Star type  \\\n",
       "4           1939    0.000138  0.1030               20.06          0   \n",
       "122         3218    0.000540  0.1100               20.02          0   \n",
       "128         2856    0.000896  0.0782               19.56          0   \n",
       "188         2778    0.000849  0.1120               19.45          0   \n",
       "121         3531    0.000930  0.0976               19.94          0   \n",
       "\n",
       "    Star color Spectral Class  \n",
       "4          Red              M  \n",
       "122        Red              M  \n",
       "128        Red              M  \n",
       "188        Red              M  \n",
       "121        Red              M  "
      ]
     },
     "execution_count": 189,
     "metadata": {},
     "output_type": "execute_result"
    }
   ],
   "source": [
    "df.loc[arg_top5]"
   ]
  },
  {
   "cell_type": "markdown",
   "metadata": {},
   "source": [
    "#### Range standardized data"
   ]
  },
  {
   "cell_type": "code",
   "execution_count": 190,
   "metadata": {
    "scrolled": true
   },
   "outputs": [
    {
     "name": "stdout",
     "output_type": "stream",
     "text": [
      "c1             : [-0.29874304 -0.39982598 -0.46366863  0.73205408]\n",
      "Loading        : [  47.47235537   63.53513875   73.68018251 -116.32850478]\n",
      "Contribution:  63.75216188652413\n",
      "Top5 stars: [1.         0.99361518 0.99111803 0.98913908 0.9883791 ]\n"
     ]
    }
   ],
   "source": [
    "_, ranking_factors, arg_top5 = part_3(x=x_range, z=z_x_range, c=c_x_range, mu=mu_x_range, argmax=mu_argmax_x_range)"
   ]
  },
  {
   "cell_type": "code",
   "execution_count": 191,
   "metadata": {},
   "outputs": [
    {
     "data": {
      "text/html": [
       "<div>\n",
       "<style scoped>\n",
       "    .dataframe tbody tr th:only-of-type {\n",
       "        vertical-align: middle;\n",
       "    }\n",
       "\n",
       "    .dataframe tbody tr th {\n",
       "        vertical-align: top;\n",
       "    }\n",
       "\n",
       "    .dataframe thead th {\n",
       "        text-align: right;\n",
       "    }\n",
       "</style>\n",
       "<table border=\"1\" class=\"dataframe\">\n",
       "  <thead>\n",
       "    <tr style=\"text-align: right;\">\n",
       "      <th></th>\n",
       "      <th>Temperature</th>\n",
       "      <th>Luminosity</th>\n",
       "      <th>Radius</th>\n",
       "      <th>Absolute magnitude</th>\n",
       "      <th>Star type</th>\n",
       "      <th>Star color</th>\n",
       "      <th>Spectral Class</th>\n",
       "    </tr>\n",
       "  </thead>\n",
       "  <tbody>\n",
       "    <tr>\n",
       "      <th>4</th>\n",
       "      <td>1939</td>\n",
       "      <td>0.000138</td>\n",
       "      <td>0.1030</td>\n",
       "      <td>20.06</td>\n",
       "      <td>0</td>\n",
       "      <td>Red</td>\n",
       "      <td>M</td>\n",
       "    </tr>\n",
       "    <tr>\n",
       "      <th>122</th>\n",
       "      <td>3218</td>\n",
       "      <td>0.000540</td>\n",
       "      <td>0.1100</td>\n",
       "      <td>20.02</td>\n",
       "      <td>0</td>\n",
       "      <td>Red</td>\n",
       "      <td>M</td>\n",
       "    </tr>\n",
       "    <tr>\n",
       "      <th>121</th>\n",
       "      <td>3531</td>\n",
       "      <td>0.000930</td>\n",
       "      <td>0.0976</td>\n",
       "      <td>19.94</td>\n",
       "      <td>0</td>\n",
       "      <td>Red</td>\n",
       "      <td>M</td>\n",
       "    </tr>\n",
       "    <tr>\n",
       "      <th>128</th>\n",
       "      <td>2856</td>\n",
       "      <td>0.000896</td>\n",
       "      <td>0.0782</td>\n",
       "      <td>19.56</td>\n",
       "      <td>0</td>\n",
       "      <td>Red</td>\n",
       "      <td>M</td>\n",
       "    </tr>\n",
       "    <tr>\n",
       "      <th>125</th>\n",
       "      <td>3225</td>\n",
       "      <td>0.000760</td>\n",
       "      <td>0.1210</td>\n",
       "      <td>19.63</td>\n",
       "      <td>0</td>\n",
       "      <td>Red</td>\n",
       "      <td>M</td>\n",
       "    </tr>\n",
       "  </tbody>\n",
       "</table>\n",
       "</div>"
      ],
      "text/plain": [
       "     Temperature  Luminosity  Radius  Absolute magnitude  Star type  \\\n",
       "4           1939    0.000138  0.1030               20.06          0   \n",
       "122         3218    0.000540  0.1100               20.02          0   \n",
       "121         3531    0.000930  0.0976               19.94          0   \n",
       "128         2856    0.000896  0.0782               19.56          0   \n",
       "125         3225    0.000760  0.1210               19.63          0   \n",
       "\n",
       "    Star color Spectral Class  \n",
       "4          Red              M  \n",
       "122        Red              M  \n",
       "121        Red              M  \n",
       "128        Red              M  \n",
       "125        Red              M  "
      ]
     },
     "execution_count": 191,
     "metadata": {},
     "output_type": "execute_result"
    }
   ],
   "source": [
    "df.loc[arg_top5]"
   ]
  },
  {
   "cell_type": "markdown",
   "metadata": {},
   "source": [
    "#### Rank standardized data"
   ]
  },
  {
   "cell_type": "code",
   "execution_count": 192,
   "metadata": {},
   "outputs": [
    {
     "name": "stdout",
     "output_type": "stream",
     "text": [
      "c1             : [0.29448451 0.09911757 0.07199447 0.9477718 ]\n",
      "Loading        : [20.83565187  7.01286209  5.09382204 67.057664  ]\n",
      "Contribution:  63.07238789263821\n",
      "Top5 stars: [1.         0.99994162 0.98984445 0.9866069  0.98089084]\n"
     ]
    }
   ],
   "source": [
    "_, _, arg_top5 =\\\n",
    "part_3(x=x_rank, z=z_x_rank, c=c_x_rank, mu=mu_x_rank, argmax=mu_argmax_x_rank)"
   ]
  },
  {
   "cell_type": "code",
   "execution_count": 193,
   "metadata": {},
   "outputs": [
    {
     "data": {
      "text/html": [
       "<div>\n",
       "<style scoped>\n",
       "    .dataframe tbody tr th:only-of-type {\n",
       "        vertical-align: middle;\n",
       "    }\n",
       "\n",
       "    .dataframe tbody tr th {\n",
       "        vertical-align: top;\n",
       "    }\n",
       "\n",
       "    .dataframe thead th {\n",
       "        text-align: right;\n",
       "    }\n",
       "</style>\n",
       "<table border=\"1\" class=\"dataframe\">\n",
       "  <thead>\n",
       "    <tr style=\"text-align: right;\">\n",
       "      <th></th>\n",
       "      <th>Temperature</th>\n",
       "      <th>Luminosity</th>\n",
       "      <th>Radius</th>\n",
       "      <th>Absolute magnitude</th>\n",
       "      <th>Star type</th>\n",
       "      <th>Star color</th>\n",
       "      <th>Spectral Class</th>\n",
       "    </tr>\n",
       "  </thead>\n",
       "  <tbody>\n",
       "    <tr>\n",
       "      <th>121</th>\n",
       "      <td>3531</td>\n",
       "      <td>0.000930</td>\n",
       "      <td>0.0976</td>\n",
       "      <td>19.94</td>\n",
       "      <td>0</td>\n",
       "      <td>Red</td>\n",
       "      <td>M</td>\n",
       "    </tr>\n",
       "    <tr>\n",
       "      <th>122</th>\n",
       "      <td>3218</td>\n",
       "      <td>0.000540</td>\n",
       "      <td>0.1100</td>\n",
       "      <td>20.02</td>\n",
       "      <td>0</td>\n",
       "      <td>Red</td>\n",
       "      <td>M</td>\n",
       "    </tr>\n",
       "    <tr>\n",
       "      <th>4</th>\n",
       "      <td>1939</td>\n",
       "      <td>0.000138</td>\n",
       "      <td>0.1030</td>\n",
       "      <td>20.06</td>\n",
       "      <td>0</td>\n",
       "      <td>Red</td>\n",
       "      <td>M</td>\n",
       "    </tr>\n",
       "    <tr>\n",
       "      <th>125</th>\n",
       "      <td>3225</td>\n",
       "      <td>0.000760</td>\n",
       "      <td>0.1210</td>\n",
       "      <td>19.63</td>\n",
       "      <td>0</td>\n",
       "      <td>Red</td>\n",
       "      <td>M</td>\n",
       "    </tr>\n",
       "    <tr>\n",
       "      <th>128</th>\n",
       "      <td>2856</td>\n",
       "      <td>0.000896</td>\n",
       "      <td>0.0782</td>\n",
       "      <td>19.56</td>\n",
       "      <td>0</td>\n",
       "      <td>Red</td>\n",
       "      <td>M</td>\n",
       "    </tr>\n",
       "  </tbody>\n",
       "</table>\n",
       "</div>"
      ],
      "text/plain": [
       "     Temperature  Luminosity  Radius  Absolute magnitude  Star type  \\\n",
       "121         3531    0.000930  0.0976               19.94          0   \n",
       "122         3218    0.000540  0.1100               20.02          0   \n",
       "4           1939    0.000138  0.1030               20.06          0   \n",
       "125         3225    0.000760  0.1210               19.63          0   \n",
       "128         2856    0.000896  0.0782               19.56          0   \n",
       "\n",
       "    Star color Spectral Class  \n",
       "121        Red              M  \n",
       "122        Red              M  \n",
       "4          Red              M  \n",
       "125        Red              M  \n",
       "128        Red              M  "
      ]
     },
     "execution_count": 193,
     "metadata": {},
     "output_type": "execute_result"
    }
   ],
   "source": [
    "df.loc[arg_top5]"
   ]
  },
  {
   "cell_type": "markdown",
   "metadata": {},
   "source": [
    "## Part 4.\n",
    "Visualize the data using two first principal components at the standardization with two versions of normalization: (a) range normalization and (b) z-scoring. At these visualizations, use a distinct shape/color for points representing a pre-specified by you group of objects"
   ]
  },
  {
   "cell_type": "code",
   "execution_count": 194,
   "metadata": {},
   "outputs": [],
   "source": [
    "df_labeled = pd.read_csv(\"Stars_with_clusters.csv\")"
   ]
  },
  {
   "cell_type": "code",
   "execution_count": 195,
   "metadata": {},
   "outputs": [
    {
     "name": "stdout",
     "output_type": "stream",
     "text": [
      "[ 50  51  52  53  54  55  56  57  58  59 110 111 112 113 114 115 116 117\n",
      " 118 119 170 171 172 174 175 176 177 237 238]\n"
     ]
    }
   ],
   "source": [
    "group_0 = np.where(df_labeled[\"cluster_id_4\"] == 0)[0]\n",
    "print(group_0)"
   ]
  },
  {
   "cell_type": "code",
   "execution_count": 196,
   "metadata": {},
   "outputs": [
    {
     "name": "stdout",
     "output_type": "stream",
     "text": [
      "[101 173 179 223 227 229 230 231 232 233 234 235 236 239]\n"
     ]
    }
   ],
   "source": [
    "group_1 = np.where(df_labeled[\"cluster_id_4\"] == 1)[0]\n",
    "print(group_1)"
   ]
  },
  {
   "cell_type": "code",
   "execution_count": 197,
   "metadata": {},
   "outputs": [
    {
     "name": "stdout",
     "output_type": "stream",
     "text": [
      "[  0   1   2   3   4   5   6   7   8   9  10  11  12  13  14  15  16  17\n",
      "  18  19  21  22  23  24  25  26  27  28  29  33  34  35  36  37  38  39\n",
      "  60  61  62  63  64  65  66  67  68  69  70  71  72  73  74  75  76  77\n",
      "  78  79  80  81  82  83  84  85  86  87  88  89  90  91  92  93  94  96\n",
      "  97 120 121 122 123 124 125 126 127 128 129 130 131 132 133 134 135 136\n",
      " 137 138 139 140 141 142 143 144 145 146 147 148 149 151 180 181 182 183\n",
      " 184 185 186 187 188 189 190 191 192 193 194 195 196 197 198 199 200 201\n",
      " 202 203 204 205 208 209 211 216 219]\n"
     ]
    }
   ],
   "source": [
    "group_2 = np.where(df_labeled[\"cluster_id_4\"] == 2)[0]\n",
    "print(group_2)"
   ]
  },
  {
   "cell_type": "code",
   "execution_count": 198,
   "metadata": {},
   "outputs": [
    {
     "name": "stdout",
     "output_type": "stream",
     "text": [
      "[ 20  30  31  32  40  41  42  43  44  45  46  47  48  49  95  98  99 100\n",
      " 102 103 104 105 106 107 108 109 150 152 153 154 155 156 157 158 159 160\n",
      " 161 162 163 164 165 166 167 168 169 178 206 207 210 212 213 214 215 217\n",
      " 218 220 221 222 224 225 226 228]\n"
     ]
    }
   ],
   "source": [
    "group_3 = np.where(df_labeled[\"cluster_id_4\"] == 3)[0]\n",
    "print(group_3)"
   ]
  },
  {
   "cell_type": "code",
   "execution_count": 199,
   "metadata": {},
   "outputs": [
    {
     "data": {
      "text/plain": [
       "240"
      ]
     },
     "execution_count": 199,
     "metadata": {},
     "output_type": "execute_result"
    }
   ],
   "source": [
    "len(group_1)+len(group_2)+len(group_3)+len(group_0)"
   ]
  },
  {
   "cell_type": "code",
   "execution_count": 210,
   "metadata": {},
   "outputs": [
    {
     "data": {
      "image/png": "[encoded data removed]",
      "text/plain": [
       "<Figure size 1080x684 with 2 Axes>"
      ]
     },
     "metadata": {},
     "output_type": "display_data"
    }
   ],
   "source": [
    "z_z0 = z_x_zscore[:, 0]*np.sqrt(mu_x_zscore[0])\n",
    "z_z1 = z_x_zscore[:, 1]*np.sqrt(mu_x_zscore[1])\n",
    "\n",
    "z_r0 = z_x_range[:, 0]*np.sqrt(mu_x_range[0])\n",
    "z_r1 = z_x_range[:, 1]*np.sqrt(mu_x_range[1])\n",
    "\n",
    "plt.style.use('ggplot')\n",
    "\n",
    "fig = plt.figure(figsize=(15, 9.5))\n",
    "\n",
    "ax = fig.add_subplot(121)\n",
    "ax.scatter(z_z0[group_2], z_z1[group_2], c='#403142', linewidths = 7, label ='2')\n",
    "ax.scatter(z_z0[group_3], z_z1[group_3], c='#A63340', linewidths = 7, label ='3')\n",
    "ax.scatter(z_z0[group_0], z_z1[group_0], c='#73978C', linewidths = 7, label='0')\n",
    "ax.scatter(z_z0[group_1], z_z1[group_1], c='#E1C0A9', linewidths = 7, label ='1')\n",
    "plt.title(\"PCA of Z-scoring standardized data\", fontsize = 20)\n",
    "plt.legend()\n",
    "plt.xlabel(\"PC1\")\n",
    "plt.ylabel(\"PC2\")\n",
    "plt.xticks(fontsize = 13)\n",
    "plt.yticks(fontsize = 13)\n",
    "\n",
    "ax = fig.add_subplot(122)\n",
    "ax.scatter(z_r0, z_r1)\n",
    "ax.scatter(z_r0[group_2], z_r1[group_2], c='#403142', linewidths = 7, label ='2')\n",
    "ax.scatter(z_r0[group_3], z_r1[group_3], c='#A63340', linewidths = 7, label ='3')\n",
    "ax.scatter(z_r0[group_0], z_r1[group_0], c='#73978C', linewidths = 7, label='0')\n",
    "ax.scatter(z_r0[group_1], z_r1[group_1], c='#E1C0A9', linewidths = 7, label ='1')\n",
    "\n",
    "plt.legend()\n",
    "\n",
    "plt.title(\"PCA of Range standardatized data\", fontsize = 20)\n",
    "plt.xlabel(\"PC1\")\n",
    "plt.ylabel(\"PC2\")\n",
    "plt.xticks(fontsize = 13)\n",
    "plt.yticks(fontsize = 13)\n",
    "plt.show()"
   ]
  },
  {
   "cell_type": "code",
   "execution_count": 78,
   "metadata": {},
   "outputs": [
    {
     "data": {
      "text/plain": [
       "array([[-0.35018343, -0.55933789, -0.47477107,  0.58232734],\n",
       "       [-0.82161262, -0.00452564,  0.56898115, -0.03453503],\n",
       "       [ 0.37607837, -0.75509623,  0.53314117, -0.06446119]])"
      ]
     },
     "execution_count": 78,
     "metadata": {},
     "output_type": "execute_result"
    }
   ],
   "source": [
    "# Loadings:\n",
    "c_x_zscore[:3, :]"
   ]
  },
  {
   "cell_type": "markdown",
   "metadata": {},
   "source": [
    "- Interpretations should go here"
   ]
  },
  {
   "cell_type": "markdown",
   "metadata": {},
   "source": [
    "## Part 5. Conventional PCA"
   ]
  },
  {
   "cell_type": "markdown",
   "metadata": {},
   "source": [
    "#### Conventional PCA"
   ]
  },
  {
   "cell_type": "code",
   "execution_count": 204,
   "metadata": {},
   "outputs": [],
   "source": [
    "def conventional_pca(X, standardized=False):    \n",
    "    # Let us name x as original data set, \n",
    "    # restricted at selected subset of features, i.e. x_selected.\n",
    "    if standardized is False:\n",
    "        mean_x = np.mean(X, axis=0)\n",
    "        Y = np.subtract(X, mean_x)  # centered version\n",
    "        B = (Y.T@Y)/Y.shape[0]  # covariance matrix of Y\n",
    "        L, C = np.linalg.eig(B)  # Eigenvalues \n",
    "        sorted_idx = np.argsort(L)[::-1]  # descending order\n",
    "        la1 = L[sorted_idx[0]]\n",
    "        c1 = C[:, sorted_idx[0]]  # unlike np.linalg.svd now we should consider the column\n",
    "        pc1 = np.divide(Y@c1, np.sqrt(Y.shape[0]*la1))  # 1st principle component    \n",
    "        B_dot = B - la1*np.multiply(c1, c1.T)  # Residual of Cov.\n",
    "        L_, C_ = np.linalg.eig(B_dot)\n",
    "        argmax_ = np.argmax(L_)\n",
    "        la2 = L_[argmax_]\n",
    "        c2 = C_[:, argmax_]\n",
    "        pc2 = np.divide(Y@c2, np.sqrt(Y.shape[0]*la2))  # 2nd principle component \n",
    "    else:\n",
    "        Y = X\n",
    "        B = (Y.T@Y)/Y.shape[0]  # covariance matrix of Y\n",
    "        L, C = np.linalg.eig(B)\n",
    "        sorted_idx = np.argsort(L)[::-1]  # descending order\n",
    "        la1 = L[sorted_idx[0]]\n",
    "        c1 = C[:, sorted_idx[0]]  # unlike np.linalg.svd now we should consider the column\n",
    "        pc1 = np.divide(Y@c1, np.sqrt(Y.shape[0]*la1))  # 1st principle component    \n",
    "        la2 = L[sorted_idx[1]]\n",
    "        c2 = -C[:, sorted_idx[1]]  # unlike np.linalg.svd now we should consider the column\n",
    "        pc2 = np.divide(Y@c2, np.sqrt(Y.shape[0]*la2))  # 2nd principle component \n",
    "    \n",
    "    return pc1, pc2"
   ]
  },
  {
   "cell_type": "code",
   "execution_count": 205,
   "metadata": {},
   "outputs": [],
   "source": [
    "pc1_x, pc2_x = conventional_pca(X=X, standardized=False)"
   ]
  },
  {
   "cell_type": "code",
   "execution_count": 206,
   "metadata": {},
   "outputs": [],
   "source": [
    "pc1_x_z, pc2_x_z = conventional_pca(X=x_zscore, standardized=True)"
   ]
  },
  {
   "cell_type": "code",
   "execution_count": 207,
   "metadata": {},
   "outputs": [],
   "source": [
    "from sklearn.decomposition import PCA\n",
    "pca = PCA(n_components=2)\n",
    "pcas = pca.fit_transform(x_zscore)\n",
    "pc1, pc2 = pcas[:, 0], pcas[:, 1]"
   ]
  },
  {
   "cell_type": "markdown",
   "metadata": {},
   "source": [
    "### Putting it all together"
   ]
  },
  {
   "cell_type": "code",
   "execution_count": 211,
   "metadata": {},
   "outputs": [
    {
     "name": "stderr",
     "output_type": "stream",
     "text": [
      "C:\\Users\\irisc\\anaconda3\\lib\\site-packages\\numpy\\core\\_asarray.py:138: ComplexWarning: Casting complex values to real discards the imaginary part\n",
      "  return array(a, dtype, copy=False, order=order, subok=True)\n"
     ]
    },
    {
     "data": {
      "image/png": "[encoded data removed]",
      "text/plain": [
       "<Figure size 1440x1440 with 5 Axes>"
      ]
     },
     "metadata": {},
     "output_type": "display_data"
    }
   ],
   "source": [
    "fig = plt.figure(figsize=(20, 20))\n",
    "\n",
    "ax = fig.add_subplot(231)\n",
    "ax.scatter(z_z0, z_z1)\n",
    "ax.scatter(z_z0[group_2], z_z1[group_2], c='#403142', linewidths = 7, label ='2')\n",
    "ax.scatter(z_z0[group_3], z_z1[group_3], c='#A63340', linewidths = 7, label ='3')\n",
    "ax.scatter(z_z0[group_0], z_z1[group_0], c='#73978C', linewidths = 7, label='0')\n",
    "ax.scatter(z_z0[group_1], z_z1[group_1], c='#E1C0A9', linewidths = 7, label ='1')\n",
    "plt.title(\"PCA of Z-scoring data(SVD)\")\n",
    "plt.xlabel(\"PC1\")\n",
    "plt.ylabel(\"PC2\")\n",
    "plt.legend()\n",
    "\n",
    "ax = fig.add_subplot(232)\n",
    "ax.scatter(pc1_x_z, pc2_x_z)\n",
    "ax.scatter(pc1_x_z[group_2], pc2_x_z[group_2], c='#403142', linewidths = 7, label ='2')\n",
    "ax.scatter(pc1_x_z[group_3], pc2_x_z[group_3], c='#A63340', linewidths = 7, label ='3')\n",
    "ax.scatter(pc1_x_z[group_0], pc2_x_z[group_0], c='#73978C', linewidths = 7, label='0')\n",
    "ax.scatter(pc1_x_z[group_1], pc2_x_z[group_1], c='#E1C0A9', linewidths = 7, label ='1')\n",
    "plt.title(\"Conventional PCA of Z-scored\")\n",
    "plt.xlabel(\"PC1\")\n",
    "plt.ylabel(\"PC2\")\n",
    "plt.legend()\n",
    "\n",
    "ax = fig.add_subplot(233)\n",
    "ax.scatter(pc1, pc2)\n",
    "ax.scatter(pc1[group_2], pc2[group_2], c='#403142', linewidths = 7, label ='2')\n",
    "ax.scatter(pc1[group_3], pc2[group_3], c='#A63340', linewidths = 7, label ='3')\n",
    "ax.scatter(pc1[group_0], pc2[group_0], c='#73978C', linewidths = 7, label='0')\n",
    "ax.scatter(pc1[group_1], pc2[group_1], c='#E1C0A9', linewidths = 7, label ='1')\n",
    "plt.title(\"Output of Sklearn\")\n",
    "plt.xlabel(\"PC1\")\n",
    "plt.ylabel(\"PC2\")\n",
    "plt.legend()\n",
    "\n",
    "ax = fig.add_subplot(234)\n",
    "plt.scatter(z_r0, z_r1)\n",
    "ax.scatter(z_r0[group_2], z_r1[group_2], c='#403142', linewidths = 7, label ='2')\n",
    "ax.scatter(z_r0[group_3], z_r1[group_3], c='#A63340', linewidths = 7, label ='3')\n",
    "ax.scatter(z_r0[group_0], z_r1[group_0], c='#73978C', linewidths = 7, label='0')\n",
    "ax.scatter(z_r0[group_1], z_r1[group_1], c='#E1C0A9', linewidths = 7, label ='1')\n",
    "plt.title(\"PCA of Range data(SVD)\")\n",
    "plt.xlabel(\"PC1\")\n",
    "plt.ylabel(\"PC2\")\n",
    "plt.legend()\n",
    "\n",
    "ax = fig.add_subplot(235)\n",
    "ax.scatter(pc1_x, pc2_x)\n",
    "ax.scatter(pc1_x[group_2], pc2_x[group_2], c='#403142', linewidths = 7, label ='2')\n",
    "ax.scatter(pc1_x[group_3], pc2_x[group_3], c='#A63340', linewidths = 7, label ='3')\n",
    "ax.scatter(pc1_x[group_0], pc2_x[group_0], c='#73978C', linewidths = 7, label='0')\n",
    "ax.scatter(pc1_x[group_1], pc2_x[group_1], c='#E1C0A9', linewidths = 7, label ='1')\n",
    "plt.title(\"Conventional PCA of not standardized data\")\n",
    "plt.xlabel(\"PC1\")\n",
    "plt.ylabel(\"PC2\")\n",
    "plt.legend()\n",
    "\n",
    "plt.show()"
   ]
  },
  {
   "cell_type": "code",
   "execution_count": null,
   "metadata": {},
   "outputs": [],
   "source": []
  }
 ],
 "metadata": {
  "kernelspec": {
   "display_name": "Python 3",
   "language": "python",
   "name": "python3"
  },
  "language_info": {
   "codemirror_mode": {
    "name": "ipython",
    "version": 3
   },
   "file_extension": ".py",
   "mimetype": "text/x-python",
   "name": "python",
   "nbconvert_exporter": "python",
   "pygments_lexer": "ipython3",
   "version": "3.7.6"
  }
 },
 "nbformat": 4,
 "nbformat_minor": 4
}
